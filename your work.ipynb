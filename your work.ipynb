{
 "cells": [
  {
   "cell_type": "code",
   "execution_count": 28,
   "id": "446059d0",
   "metadata": {},
   "outputs": [],
   "source": [
    "#importing libraries\n",
    "import pandas as pd\n",
    "import numpy as np\n",
    "import matplotlib.pyplot as plt\n",
    "import seaborn as sns\n",
    "import statistics\n",
    "import warnings\n",
    "from imblearn.combine import SMOTETomek\n",
    "warnings.filterwarnings(action=\"ignore\")\n",
    "from sklearn.model_selection import train_test_split\n",
    "from sklearn.linear_model import LogisticRegression,LinearRegression\n",
    "from sklearn.svm import SVC,SVR\n",
    "from sklearn.feature_selection import RFE\n",
    "from sklearn.naive_bayes import GaussianNB\n",
    "from sklearn.tree import DecisionTreeClassifier,DecisionTreeRegressor\n",
    "from sklearn.ensemble import AdaBoostClassifier,RandomForestClassifier,AdaBoostRegressor,RandomForestRegressor\n",
    "from sklearn.ensemble import GradientBoostingClassifier,GradientBoostingRegressor\n",
    "from xgboost import XGBClassifier,XGBRegressor\n",
    "from sklearn.model_selection import KFold,GridSearchCV\n",
    "from sklearn.metrics import f1_score,r2_score\n",
    "from sklearn.preprocessing import RobustScaler,StandardScaler,MinMaxScaler\n",
    "from sklearn.neighbors import KNeighborsRegressor\n",
    "from sklearn.cluster import KMeans"
   ]
  },
  {
   "cell_type": "code",
   "execution_count": 29,
   "id": "c1a5bc69",
   "metadata": {},
   "outputs": [
    {
     "data": {
      "text/html": [
       "<div>\n",
       "<style scoped>\n",
       "    .dataframe tbody tr th:only-of-type {\n",
       "        vertical-align: middle;\n",
       "    }\n",
       "\n",
       "    .dataframe tbody tr th {\n",
       "        vertical-align: top;\n",
       "    }\n",
       "\n",
       "    .dataframe thead th {\n",
       "        text-align: right;\n",
       "    }\n",
       "</style>\n",
       "<table border=\"1\" class=\"dataframe\">\n",
       "  <thead>\n",
       "    <tr style=\"text-align: right;\">\n",
       "      <th></th>\n",
       "      <th>Unnamed: 0</th>\n",
       "      <th>title</th>\n",
       "      <th>rating</th>\n",
       "      <th>name</th>\n",
       "      <th>num_ratings</th>\n",
       "      <th>num_reviews</th>\n",
       "      <th>num_followers</th>\n",
       "      <th>synopsis</th>\n",
       "      <th>genre</th>\n",
       "    </tr>\n",
       "  </thead>\n",
       "  <tbody>\n",
       "    <tr>\n",
       "      <th>0</th>\n",
       "      <td>0</td>\n",
       "      <td>Sapiens: A Brief History of Humankind</td>\n",
       "      <td>4.39</td>\n",
       "      <td>Yuval Noah Harari</td>\n",
       "      <td>8,06,229</td>\n",
       "      <td>46,149</td>\n",
       "      <td>30.5k</td>\n",
       "      <td>100,000 years ago, at least six human species ...</td>\n",
       "      <td>history</td>\n",
       "    </tr>\n",
       "    <tr>\n",
       "      <th>1</th>\n",
       "      <td>1</td>\n",
       "      <td>Guns, Germs, and Steel: The Fates of Human Soc...</td>\n",
       "      <td>4.04</td>\n",
       "      <td>Jared Diamond</td>\n",
       "      <td>3,67,056</td>\n",
       "      <td>12,879</td>\n",
       "      <td>6,538</td>\n",
       "      <td>\"Diamond has written a book of remarkable scop...</td>\n",
       "      <td>history</td>\n",
       "    </tr>\n",
       "    <tr>\n",
       "      <th>2</th>\n",
       "      <td>2</td>\n",
       "      <td>A People's History of the United States</td>\n",
       "      <td>4.07</td>\n",
       "      <td>Howard Zinn</td>\n",
       "      <td>2,24,620</td>\n",
       "      <td>6,509</td>\n",
       "      <td>2,354</td>\n",
       "      <td>In the book, Zinn presented a different side o...</td>\n",
       "      <td>history</td>\n",
       "    </tr>\n",
       "    <tr>\n",
       "      <th>3</th>\n",
       "      <td>3</td>\n",
       "      <td>The Devil in the White City: Murder, Magic, an...</td>\n",
       "      <td>3.99</td>\n",
       "      <td>Erik Larson</td>\n",
       "      <td>6,13,157</td>\n",
       "      <td>36,644</td>\n",
       "      <td>64.2k</td>\n",
       "      <td>Author Erik Larson imbues the incredible event...</td>\n",
       "      <td>history</td>\n",
       "    </tr>\n",
       "    <tr>\n",
       "      <th>4</th>\n",
       "      <td>4</td>\n",
       "      <td>The Diary of a Young Girl</td>\n",
       "      <td>4.18</td>\n",
       "      <td>Anne Frank</td>\n",
       "      <td>33,13,033</td>\n",
       "      <td>35,591</td>\n",
       "      <td>4,621</td>\n",
       "      <td>Discovered in the attic in which she spent the...</td>\n",
       "      <td>history</td>\n",
       "    </tr>\n",
       "  </tbody>\n",
       "</table>\n",
       "</div>"
      ],
      "text/plain": [
       "   Unnamed: 0                                              title  rating  \\\n",
       "0           0              Sapiens: A Brief History of Humankind    4.39   \n",
       "1           1  Guns, Germs, and Steel: The Fates of Human Soc...    4.04   \n",
       "2           2            A People's History of the United States    4.07   \n",
       "3           3  The Devil in the White City: Murder, Magic, an...    3.99   \n",
       "4           4                          The Diary of a Young Girl    4.18   \n",
       "\n",
       "                name num_ratings num_reviews num_followers  \\\n",
       "0  Yuval Noah Harari    8,06,229      46,149         30.5k   \n",
       "1      Jared Diamond    3,67,056      12,879         6,538   \n",
       "2        Howard Zinn    2,24,620       6,509         2,354   \n",
       "3        Erik Larson    6,13,157      36,644         64.2k   \n",
       "4         Anne Frank   33,13,033      35,591         4,621   \n",
       "\n",
       "                                            synopsis    genre  \n",
       "0  100,000 years ago, at least six human species ...  history  \n",
       "1  \"Diamond has written a book of remarkable scop...  history  \n",
       "2  In the book, Zinn presented a different side o...  history  \n",
       "3  Author Erik Larson imbues the incredible event...  history  \n",
       "4  Discovered in the attic in which she spent the...  history  "
      ]
     },
     "execution_count": 29,
     "metadata": {},
     "output_type": "execute_result"
    }
   ],
   "source": [
    "#Reading the dataset\n",
    "data=pd.read_csv(r\"E:\\Data Science Interview Case Studies\\Rapyder\\Dataset\\DA-AI-ML-interview-assignment-Data.csv\")\n",
    "#glimpse of first 5 rows of the data\n",
    "data.head()"
   ]
  },
  {
   "cell_type": "code",
   "execution_count": 30,
   "id": "e8ef6c64",
   "metadata": {},
   "outputs": [
    {
     "data": {
      "text/plain": [
       "Unnamed: 0       0\n",
       "title            0\n",
       "rating           0\n",
       "name             0\n",
       "num_ratings      0\n",
       "num_reviews      0\n",
       "num_followers    0\n",
       "synopsis         0\n",
       "genre            0\n",
       "dtype: int64"
      ]
     },
     "execution_count": 30,
     "metadata": {},
     "output_type": "execute_result"
    }
   ],
   "source": [
    "#null value checking\n",
    "data.isnull().sum()"
   ]
  },
  {
   "cell_type": "markdown",
   "id": "7afb372c",
   "metadata": {},
   "source": [
    "## Cleaning the data"
   ]
  },
  {
   "cell_type": "code",
   "execution_count": 31,
   "id": "ce4fef89",
   "metadata": {},
   "outputs": [
    {
     "data": {
      "text/html": [
       "<div>\n",
       "<style scoped>\n",
       "    .dataframe tbody tr th:only-of-type {\n",
       "        vertical-align: middle;\n",
       "    }\n",
       "\n",
       "    .dataframe tbody tr th {\n",
       "        vertical-align: top;\n",
       "    }\n",
       "\n",
       "    .dataframe thead th {\n",
       "        text-align: right;\n",
       "    }\n",
       "</style>\n",
       "<table border=\"1\" class=\"dataframe\">\n",
       "  <thead>\n",
       "    <tr style=\"text-align: right;\">\n",
       "      <th></th>\n",
       "      <th>title</th>\n",
       "      <th>rating</th>\n",
       "      <th>name</th>\n",
       "      <th>num_ratings</th>\n",
       "      <th>num_reviews</th>\n",
       "      <th>num_followers</th>\n",
       "      <th>synopsis</th>\n",
       "      <th>genre</th>\n",
       "    </tr>\n",
       "  </thead>\n",
       "  <tbody>\n",
       "    <tr>\n",
       "      <th>0</th>\n",
       "      <td>Sapiens: A Brief History of Humankind</td>\n",
       "      <td>4.39</td>\n",
       "      <td>Yuval Noah Harari</td>\n",
       "      <td>8,06,229</td>\n",
       "      <td>46,149</td>\n",
       "      <td>30.5k</td>\n",
       "      <td>100,000 years ago, at least six human species ...</td>\n",
       "      <td>history</td>\n",
       "    </tr>\n",
       "    <tr>\n",
       "      <th>1</th>\n",
       "      <td>Guns, Germs, and Steel: The Fates of Human Soc...</td>\n",
       "      <td>4.04</td>\n",
       "      <td>Jared Diamond</td>\n",
       "      <td>3,67,056</td>\n",
       "      <td>12,879</td>\n",
       "      <td>6,538</td>\n",
       "      <td>\"Diamond has written a book of remarkable scop...</td>\n",
       "      <td>history</td>\n",
       "    </tr>\n",
       "    <tr>\n",
       "      <th>2</th>\n",
       "      <td>A People's History of the United States</td>\n",
       "      <td>4.07</td>\n",
       "      <td>Howard Zinn</td>\n",
       "      <td>2,24,620</td>\n",
       "      <td>6,509</td>\n",
       "      <td>2,354</td>\n",
       "      <td>In the book, Zinn presented a different side o...</td>\n",
       "      <td>history</td>\n",
       "    </tr>\n",
       "    <tr>\n",
       "      <th>3</th>\n",
       "      <td>The Devil in the White City: Murder, Magic, an...</td>\n",
       "      <td>3.99</td>\n",
       "      <td>Erik Larson</td>\n",
       "      <td>6,13,157</td>\n",
       "      <td>36,644</td>\n",
       "      <td>64.2k</td>\n",
       "      <td>Author Erik Larson imbues the incredible event...</td>\n",
       "      <td>history</td>\n",
       "    </tr>\n",
       "    <tr>\n",
       "      <th>4</th>\n",
       "      <td>The Diary of a Young Girl</td>\n",
       "      <td>4.18</td>\n",
       "      <td>Anne Frank</td>\n",
       "      <td>33,13,033</td>\n",
       "      <td>35,591</td>\n",
       "      <td>4,621</td>\n",
       "      <td>Discovered in the attic in which she spent the...</td>\n",
       "      <td>history</td>\n",
       "    </tr>\n",
       "  </tbody>\n",
       "</table>\n",
       "</div>"
      ],
      "text/plain": [
       "                                               title  rating  \\\n",
       "0              Sapiens: A Brief History of Humankind    4.39   \n",
       "1  Guns, Germs, and Steel: The Fates of Human Soc...    4.04   \n",
       "2            A People's History of the United States    4.07   \n",
       "3  The Devil in the White City: Murder, Magic, an...    3.99   \n",
       "4                          The Diary of a Young Girl    4.18   \n",
       "\n",
       "                name num_ratings num_reviews num_followers  \\\n",
       "0  Yuval Noah Harari    8,06,229      46,149         30.5k   \n",
       "1      Jared Diamond    3,67,056      12,879         6,538   \n",
       "2        Howard Zinn    2,24,620       6,509         2,354   \n",
       "3        Erik Larson    6,13,157      36,644         64.2k   \n",
       "4         Anne Frank   33,13,033      35,591         4,621   \n",
       "\n",
       "                                            synopsis    genre  \n",
       "0  100,000 years ago, at least six human species ...  history  \n",
       "1  \"Diamond has written a book of remarkable scop...  history  \n",
       "2  In the book, Zinn presented a different side o...  history  \n",
       "3  Author Erik Larson imbues the incredible event...  history  \n",
       "4  Discovered in the attic in which she spent the...  history  "
      ]
     },
     "execution_count": 31,
     "metadata": {},
     "output_type": "execute_result"
    }
   ],
   "source": [
    "#dropping the column Unnamed: 0\n",
    "#since the column is not useful I drop it\n",
    "data=data.drop(\"Unnamed: 0\",axis=1)\n",
    "#after dropping the glimpse of first 5 rows of the data just to make sure everything is going fine\n",
    "data.head()"
   ]
  },
  {
   "cell_type": "code",
   "execution_count": 32,
   "id": "5ea04eb5",
   "metadata": {},
   "outputs": [
    {
     "name": "stdout",
     "output_type": "stream",
     "text": [
      "<class 'pandas.core.frame.DataFrame'>\n",
      "RangeIndex: 1539 entries, 0 to 1538\n",
      "Data columns (total 8 columns):\n",
      " #   Column         Non-Null Count  Dtype  \n",
      "---  ------         --------------  -----  \n",
      " 0   title          1539 non-null   object \n",
      " 1   rating         1539 non-null   float64\n",
      " 2   name           1539 non-null   object \n",
      " 3   num_ratings    1539 non-null   object \n",
      " 4   num_reviews    1539 non-null   object \n",
      " 5   num_followers  1539 non-null   object \n",
      " 6   synopsis       1539 non-null   object \n",
      " 7   genre          1539 non-null   object \n",
      "dtypes: float64(1), object(7)\n",
      "memory usage: 96.3+ KB\n"
     ]
    }
   ],
   "source": [
    "#checking the data type of all features in the data\n",
    "data.info()"
   ]
  },
  {
   "cell_type": "code",
   "execution_count": 33,
   "id": "ea194d78",
   "metadata": {},
   "outputs": [],
   "source": [
    "#num_ratings,num_reviews,num_followers are not in correct data type so i try to fix them\n",
    "#Handiling the num_ratings column\n",
    "data[\"num_ratings\"].value_counts()\n",
    "#Looks like that num_ratings column has comma in between values of that column\n",
    "#Let's remove comma from this num_ratings column data\n",
    "data[\"num_ratings\"]=data[\"num_ratings\"].str.replace(\",\",\"\")\n",
    "#now let's try to change the datatype of num_ratings column from object to integer \n",
    "data[\"num_ratings\"]=pd.to_numeric(data[\"num_ratings\"])"
   ]
  },
  {
   "cell_type": "code",
   "execution_count": 34,
   "id": "1fd0e99d",
   "metadata": {},
   "outputs": [
    {
     "name": "stdout",
     "output_type": "stream",
     "text": [
      "<class 'pandas.core.frame.DataFrame'>\n",
      "RangeIndex: 1539 entries, 0 to 1538\n",
      "Data columns (total 8 columns):\n",
      " #   Column         Non-Null Count  Dtype  \n",
      "---  ------         --------------  -----  \n",
      " 0   title          1539 non-null   object \n",
      " 1   rating         1539 non-null   float64\n",
      " 2   name           1539 non-null   object \n",
      " 3   num_ratings    1539 non-null   int64  \n",
      " 4   num_reviews    1539 non-null   object \n",
      " 5   num_followers  1539 non-null   object \n",
      " 6   synopsis       1539 non-null   object \n",
      " 7   genre          1539 non-null   object \n",
      "dtypes: float64(1), int64(1), object(6)\n",
      "memory usage: 96.3+ KB\n"
     ]
    }
   ],
   "source": [
    "#let's check info of the data for surity\n",
    "data.info()"
   ]
  },
  {
   "cell_type": "code",
   "execution_count": 35,
   "id": "863cfbe4",
   "metadata": {},
   "outputs": [],
   "source": [
    "#Handiling the num_reviews column\n",
    "data[\"num_reviews\"].value_counts()\n",
    "#Looks like that num_reviews column has comma in between values of that column\n",
    "#Let's remove comma from this num_reviews column data\n",
    "data[\"num_reviews\"]=data[\"num_reviews\"].str.replace(\",\",\"\")\n",
    "#now let's try to change the datatype of num_reviews column from object to integer \n",
    "data[\"num_reviews\"]=pd.to_numeric(data[\"num_reviews\"])"
   ]
  },
  {
   "cell_type": "code",
   "execution_count": 36,
   "id": "3b6d1d93",
   "metadata": {},
   "outputs": [],
   "source": [
    "#Handiling num_followers column\n",
    "data[\"num_followers\"].value_counts()\n",
    "#let's first handle those rows contains followers in it\n",
    "#let's split all rows using space as a delimiter\n",
    "#let's apply loop to go through each of the row and take only the first element from a list in each row\n",
    "#let's replace comma and dot with nothing and \"k\" with \"00\"\n",
    "for rows in range(data.shape[0]):\n",
    "    data.loc[rows,\"num_followers\"]=data.loc[rows,\"num_followers\"].split(\" \")[0].replace(\",\",\"\")\n",
    "    #replacing k with 00 if \".\" is present else replace with 000\n",
    "    if \".\" in data.loc[rows,\"num_followers\"]:\n",
    "        data.loc[rows,\"num_followers\"]=data.loc[rows,\"num_followers\"].replace(\".\",\"\").replace(\"k\",\"00\")\n",
    "        \n",
    "    else:\n",
    "        data.loc[rows,\"num_followers\"]=data.loc[rows,\"num_followers\"].replace(\"k\",\"000\")"
   ]
  },
  {
   "cell_type": "code",
   "execution_count": 37,
   "id": "20a44f7f",
   "metadata": {},
   "outputs": [],
   "source": [
    "#Let's change the data type of num_followers column from object to integer\n",
    "data[\"num_followers\"]=pd.to_numeric(data[\"num_followers\"])"
   ]
  },
  {
   "cell_type": "code",
   "execution_count": 38,
   "id": "de218bff",
   "metadata": {},
   "outputs": [
    {
     "name": "stdout",
     "output_type": "stream",
     "text": [
      "<class 'pandas.core.frame.DataFrame'>\n",
      "RangeIndex: 1539 entries, 0 to 1538\n",
      "Data columns (total 8 columns):\n",
      " #   Column         Non-Null Count  Dtype  \n",
      "---  ------         --------------  -----  \n",
      " 0   title          1539 non-null   object \n",
      " 1   rating         1539 non-null   float64\n",
      " 2   name           1539 non-null   object \n",
      " 3   num_ratings    1539 non-null   int64  \n",
      " 4   num_reviews    1539 non-null   int64  \n",
      " 5   num_followers  1539 non-null   int64  \n",
      " 6   synopsis       1539 non-null   object \n",
      " 7   genre          1539 non-null   object \n",
      "dtypes: float64(1), int64(3), object(4)\n",
      "memory usage: 96.3+ KB\n"
     ]
    }
   ],
   "source": [
    "#let's check the info of the data\n",
    "data.info()"
   ]
  },
  {
   "cell_type": "code",
   "execution_count": 39,
   "id": "e3dfb488",
   "metadata": {},
   "outputs": [
    {
     "data": {
      "text/html": [
       "<div>\n",
       "<style scoped>\n",
       "    .dataframe tbody tr th:only-of-type {\n",
       "        vertical-align: middle;\n",
       "    }\n",
       "\n",
       "    .dataframe tbody tr th {\n",
       "        vertical-align: top;\n",
       "    }\n",
       "\n",
       "    .dataframe thead th {\n",
       "        text-align: right;\n",
       "    }\n",
       "</style>\n",
       "<table border=\"1\" class=\"dataframe\">\n",
       "  <thead>\n",
       "    <tr style=\"text-align: right;\">\n",
       "      <th></th>\n",
       "      <th>title</th>\n",
       "      <th>rating</th>\n",
       "      <th>name</th>\n",
       "      <th>num_ratings</th>\n",
       "      <th>num_reviews</th>\n",
       "      <th>num_followers</th>\n",
       "      <th>synopsis</th>\n",
       "      <th>genre</th>\n",
       "    </tr>\n",
       "  </thead>\n",
       "  <tbody>\n",
       "    <tr>\n",
       "      <th>0</th>\n",
       "      <td>Sapiens: A Brief History of Humankind</td>\n",
       "      <td>4.39</td>\n",
       "      <td>Yuval Noah Harari</td>\n",
       "      <td>806229</td>\n",
       "      <td>46149</td>\n",
       "      <td>30500</td>\n",
       "      <td>100,000 years ago, at least six human species ...</td>\n",
       "      <td>history</td>\n",
       "    </tr>\n",
       "    <tr>\n",
       "      <th>1</th>\n",
       "      <td>Guns, Germs, and Steel: The Fates of Human Soc...</td>\n",
       "      <td>4.04</td>\n",
       "      <td>Jared Diamond</td>\n",
       "      <td>367056</td>\n",
       "      <td>12879</td>\n",
       "      <td>6538</td>\n",
       "      <td>\"Diamond has written a book of remarkable scop...</td>\n",
       "      <td>history</td>\n",
       "    </tr>\n",
       "    <tr>\n",
       "      <th>2</th>\n",
       "      <td>A People's History of the United States</td>\n",
       "      <td>4.07</td>\n",
       "      <td>Howard Zinn</td>\n",
       "      <td>224620</td>\n",
       "      <td>6509</td>\n",
       "      <td>2354</td>\n",
       "      <td>In the book, Zinn presented a different side o...</td>\n",
       "      <td>history</td>\n",
       "    </tr>\n",
       "    <tr>\n",
       "      <th>3</th>\n",
       "      <td>The Devil in the White City: Murder, Magic, an...</td>\n",
       "      <td>3.99</td>\n",
       "      <td>Erik Larson</td>\n",
       "      <td>613157</td>\n",
       "      <td>36644</td>\n",
       "      <td>64200</td>\n",
       "      <td>Author Erik Larson imbues the incredible event...</td>\n",
       "      <td>history</td>\n",
       "    </tr>\n",
       "    <tr>\n",
       "      <th>4</th>\n",
       "      <td>The Diary of a Young Girl</td>\n",
       "      <td>4.18</td>\n",
       "      <td>Anne Frank</td>\n",
       "      <td>3313033</td>\n",
       "      <td>35591</td>\n",
       "      <td>4621</td>\n",
       "      <td>Discovered in the attic in which she spent the...</td>\n",
       "      <td>history</td>\n",
       "    </tr>\n",
       "  </tbody>\n",
       "</table>\n",
       "</div>"
      ],
      "text/plain": [
       "                                               title  rating  \\\n",
       "0              Sapiens: A Brief History of Humankind    4.39   \n",
       "1  Guns, Germs, and Steel: The Fates of Human Soc...    4.04   \n",
       "2            A People's History of the United States    4.07   \n",
       "3  The Devil in the White City: Murder, Magic, an...    3.99   \n",
       "4                          The Diary of a Young Girl    4.18   \n",
       "\n",
       "                name  num_ratings  num_reviews  num_followers  \\\n",
       "0  Yuval Noah Harari       806229        46149          30500   \n",
       "1      Jared Diamond       367056        12879           6538   \n",
       "2        Howard Zinn       224620         6509           2354   \n",
       "3        Erik Larson       613157        36644          64200   \n",
       "4         Anne Frank      3313033        35591           4621   \n",
       "\n",
       "                                            synopsis    genre  \n",
       "0  100,000 years ago, at least six human species ...  history  \n",
       "1  \"Diamond has written a book of remarkable scop...  history  \n",
       "2  In the book, Zinn presented a different side o...  history  \n",
       "3  Author Erik Larson imbues the incredible event...  history  \n",
       "4  Discovered in the attic in which she spent the...  history  "
      ]
     },
     "execution_count": 39,
     "metadata": {},
     "output_type": "execute_result"
    }
   ],
   "source": [
    "#glimpse of first 5 rows from the data\n",
    "data.head()"
   ]
  },
  {
   "cell_type": "code",
   "execution_count": 40,
   "id": "fc1f4997",
   "metadata": {},
   "outputs": [],
   "source": [
    "#dropping title and synopsis column because they have all unique values and those are not important for the analysis here\n",
    "data=data.drop([\"title\",\"synopsis\"],axis=1)"
   ]
  },
  {
   "cell_type": "code",
   "execution_count": 41,
   "id": "7336fdf3",
   "metadata": {},
   "outputs": [
    {
     "data": {
      "image/png": "[encoded data removed]",
      "text/plain": [
       "<Figure size 432x288 with 1 Axes>"
      ]
     },
     "metadata": {
      "needs_background": "light"
     },
     "output_type": "display_data"
    },
    {
     "data": {
      "image/png": "[encoded data removed]",
      "text/plain": [
       "<Figure size 432x288 with 1 Axes>"
      ]
     },
     "metadata": {
      "needs_background": "light"
     },
     "output_type": "display_data"
    },
    {
     "data": {
      "image/png": "[encoded data removed]",
      "text/plain": [
       "<Figure size 432x288 with 1 Axes>"
      ]
     },
     "metadata": {
      "needs_background": "light"
     },
     "output_type": "display_data"
    },
    {
     "data": {
      "image/png": "[encoded data removed]",
      "text/plain": [
       "<Figure size 432x288 with 1 Axes>"
      ]
     },
     "metadata": {
      "needs_background": "light"
     },
     "output_type": "display_data"
    }
   ],
   "source": [
    "#check distribution of columns in the data\n",
    "for cols in data.columns:\n",
    "    if data[cols].dtype!=\"O\":\n",
    "        plt.title(f\"Distribution of {cols} column\")\n",
    "        sns.distplot(data[cols])\n",
    "        plt.show()"
   ]
  },
  {
   "cell_type": "code",
   "execution_count": 42,
   "id": "367108c0",
   "metadata": {},
   "outputs": [
    {
     "data": {
      "image/png": "[encoded data removed]",
      "text/plain": [
       "<Figure size 432x288 with 1 Axes>"
      ]
     },
     "metadata": {
      "needs_background": "light"
     },
     "output_type": "display_data"
    },
    {
     "data": {
      "image/png": "[encoded data removed]",
      "text/plain": [
       "<Figure size 432x288 with 1 Axes>"
      ]
     },
     "metadata": {
      "needs_background": "light"
     },
     "output_type": "display_data"
    },
    {
     "data": {
      "image/png": "[encoded data removed]",
      "text/plain": [
       "<Figure size 432x288 with 1 Axes>"
      ]
     },
     "metadata": {
      "needs_background": "light"
     },
     "output_type": "display_data"
    },
    {
     "data": {
      "image/png": "[encoded data removed]",
      "text/plain": [
       "<Figure size 432x288 with 1 Axes>"
      ]
     },
     "metadata": {
      "needs_background": "light"
     },
     "output_type": "display_data"
    }
   ],
   "source": [
    "#check distribution of columns in the data\n",
    "for cols in data.columns:\n",
    "    if data[cols].dtype!=\"O\":\n",
    "        plt.title(f\"Distribution of {cols} column\")\n",
    "        sns.distplot(np.log(data[cols]))\n",
    "        plt.show()"
   ]
  },
  {
   "cell_type": "code",
   "execution_count": 43,
   "id": "dd78895e",
   "metadata": {},
   "outputs": [
    {
     "data": {
      "image/png": "[encoded data removed]",
      "text/plain": [
       "<Figure size 432x288 with 1 Axes>"
      ]
     },
     "metadata": {
      "needs_background": "light"
     },
     "output_type": "display_data"
    },
    {
     "data": {
      "image/png": "[encoded data removed]",
      "text/plain": [
       "<Figure size 432x288 with 1 Axes>"
      ]
     },
     "metadata": {
      "needs_background": "light"
     },
     "output_type": "display_data"
    },
    {
     "data": {
      "image/png": "[encoded data removed]",
      "text/plain": [
       "<Figure size 432x288 with 1 Axes>"
      ]
     },
     "metadata": {
      "needs_background": "light"
     },
     "output_type": "display_data"
    },
    {
     "data": {
      "image/png": "[encoded data removed]",
      "text/plain": [
       "<Figure size 432x288 with 1 Axes>"
      ]
     },
     "metadata": {
      "needs_background": "light"
     },
     "output_type": "display_data"
    }
   ],
   "source": [
    "#check distribution of columns in the data\n",
    "for cols in data.columns:\n",
    "    if data[cols].dtype!=\"O\":\n",
    "        plt.title(f\"Distribution of {cols} column\")\n",
    "        sns.distplot(data[cols])\n",
    "        plt.show()"
   ]
  },
  {
   "cell_type": "code",
   "execution_count": 44,
   "id": "751a3142",
   "metadata": {},
   "outputs": [
    {
     "data": {
      "text/html": [
       "<div>\n",
       "<style scoped>\n",
       "    .dataframe tbody tr th:only-of-type {\n",
       "        vertical-align: middle;\n",
       "    }\n",
       "\n",
       "    .dataframe tbody tr th {\n",
       "        vertical-align: top;\n",
       "    }\n",
       "\n",
       "    .dataframe thead th {\n",
       "        text-align: right;\n",
       "    }\n",
       "</style>\n",
       "<table border=\"1\" class=\"dataframe\">\n",
       "  <thead>\n",
       "    <tr style=\"text-align: right;\">\n",
       "      <th></th>\n",
       "      <th>rating</th>\n",
       "      <th>name</th>\n",
       "      <th>num_ratings</th>\n",
       "      <th>num_reviews</th>\n",
       "      <th>num_followers</th>\n",
       "      <th>genre</th>\n",
       "    </tr>\n",
       "  </thead>\n",
       "  <tbody>\n",
       "    <tr>\n",
       "      <th>0</th>\n",
       "      <td>4.39</td>\n",
       "      <td>Yuval Noah Harari</td>\n",
       "      <td>806229</td>\n",
       "      <td>46149</td>\n",
       "      <td>30500</td>\n",
       "      <td>history</td>\n",
       "    </tr>\n",
       "    <tr>\n",
       "      <th>1</th>\n",
       "      <td>4.04</td>\n",
       "      <td>Jared Diamond</td>\n",
       "      <td>367056</td>\n",
       "      <td>12879</td>\n",
       "      <td>6538</td>\n",
       "      <td>history</td>\n",
       "    </tr>\n",
       "    <tr>\n",
       "      <th>2</th>\n",
       "      <td>4.07</td>\n",
       "      <td>Howard Zinn</td>\n",
       "      <td>224620</td>\n",
       "      <td>6509</td>\n",
       "      <td>2354</td>\n",
       "      <td>history</td>\n",
       "    </tr>\n",
       "    <tr>\n",
       "      <th>3</th>\n",
       "      <td>3.99</td>\n",
       "      <td>Erik Larson</td>\n",
       "      <td>613157</td>\n",
       "      <td>36644</td>\n",
       "      <td>64200</td>\n",
       "      <td>history</td>\n",
       "    </tr>\n",
       "    <tr>\n",
       "      <th>4</th>\n",
       "      <td>4.18</td>\n",
       "      <td>Anne Frank</td>\n",
       "      <td>3313033</td>\n",
       "      <td>35591</td>\n",
       "      <td>4621</td>\n",
       "      <td>history</td>\n",
       "    </tr>\n",
       "    <tr>\n",
       "      <th>...</th>\n",
       "      <td>...</td>\n",
       "      <td>...</td>\n",
       "      <td>...</td>\n",
       "      <td>...</td>\n",
       "      <td>...</td>\n",
       "      <td>...</td>\n",
       "    </tr>\n",
       "    <tr>\n",
       "      <th>1534</th>\n",
       "      <td>4.09</td>\n",
       "      <td>Kevin Hearne</td>\n",
       "      <td>83827</td>\n",
       "      <td>7203</td>\n",
       "      <td>11905</td>\n",
       "      <td>fantasy</td>\n",
       "    </tr>\n",
       "    <tr>\n",
       "      <th>1535</th>\n",
       "      <td>4.15</td>\n",
       "      <td>Roald Dahl</td>\n",
       "      <td>775001</td>\n",
       "      <td>14252</td>\n",
       "      <td>22897</td>\n",
       "      <td>fantasy</td>\n",
       "    </tr>\n",
       "    <tr>\n",
       "      <th>1536</th>\n",
       "      <td>4.25</td>\n",
       "      <td>Pierce Brown</td>\n",
       "      <td>310138</td>\n",
       "      <td>30388</td>\n",
       "      <td>30510</td>\n",
       "      <td>fantasy</td>\n",
       "    </tr>\n",
       "    <tr>\n",
       "      <th>1537</th>\n",
       "      <td>4.26</td>\n",
       "      <td>Richelle Mead</td>\n",
       "      <td>337538</td>\n",
       "      <td>12435</td>\n",
       "      <td>66448</td>\n",
       "      <td>fantasy</td>\n",
       "    </tr>\n",
       "    <tr>\n",
       "      <th>1538</th>\n",
       "      <td>4.03</td>\n",
       "      <td>Grace Draven</td>\n",
       "      <td>50102</td>\n",
       "      <td>5550</td>\n",
       "      <td>6090</td>\n",
       "      <td>fantasy</td>\n",
       "    </tr>\n",
       "  </tbody>\n",
       "</table>\n",
       "<p>1539 rows × 6 columns</p>\n",
       "</div>"
      ],
      "text/plain": [
       "      rating               name  num_ratings  num_reviews  num_followers  \\\n",
       "0       4.39  Yuval Noah Harari       806229        46149          30500   \n",
       "1       4.04      Jared Diamond       367056        12879           6538   \n",
       "2       4.07        Howard Zinn       224620         6509           2354   \n",
       "3       3.99        Erik Larson       613157        36644          64200   \n",
       "4       4.18         Anne Frank      3313033        35591           4621   \n",
       "...      ...                ...          ...          ...            ...   \n",
       "1534    4.09       Kevin Hearne        83827         7203          11905   \n",
       "1535    4.15         Roald Dahl       775001        14252          22897   \n",
       "1536    4.25       Pierce Brown       310138        30388          30510   \n",
       "1537    4.26      Richelle Mead       337538        12435          66448   \n",
       "1538    4.03       Grace Draven        50102         5550           6090   \n",
       "\n",
       "        genre  \n",
       "0     history  \n",
       "1     history  \n",
       "2     history  \n",
       "3     history  \n",
       "4     history  \n",
       "...       ...  \n",
       "1534  fantasy  \n",
       "1535  fantasy  \n",
       "1536  fantasy  \n",
       "1537  fantasy  \n",
       "1538  fantasy  \n",
       "\n",
       "[1539 rows x 6 columns]"
      ]
     },
     "execution_count": 44,
     "metadata": {},
     "output_type": "execute_result"
    }
   ],
   "source": [
    "data"
   ]
  },
  {
   "cell_type": "code",
   "execution_count": 45,
   "id": "38ff1c2b",
   "metadata": {},
   "outputs": [
    {
     "data": {
      "image/png": "[encoded data removed]",
      "text/plain": [
       "<Figure size 432x288 with 1 Axes>"
      ]
     },
     "metadata": {
      "needs_background": "light"
     },
     "output_type": "display_data"
    },
    {
     "data": {
      "image/png": "[encoded data removed]",
      "text/plain": [
       "<Figure size 432x288 with 1 Axes>"
      ]
     },
     "metadata": {
      "needs_background": "light"
     },
     "output_type": "display_data"
    },
    {
     "data": {
      "image/png": "[encoded data removed]",
      "text/plain": [
       "<Figure size 432x288 with 1 Axes>"
      ]
     },
     "metadata": {
      "needs_background": "light"
     },
     "output_type": "display_data"
    },
    {
     "data": {
      "image/png": "[encoded data removed]",
      "text/plain": [
       "<Figure size 432x288 with 1 Axes>"
      ]
     },
     "metadata": {
      "needs_background": "light"
     },
     "output_type": "display_data"
    }
   ],
   "source": [
    "#check distribution of columns in the data\n",
    "for cols in data.columns:\n",
    "    if data[cols].dtype!=\"O\":\n",
    "        plt.title(f\"Distribution of {cols} column\")\n",
    "        sns.distplot(data[cols])\n",
    "        plt.show()"
   ]
  },
  {
   "cell_type": "code",
   "execution_count": 46,
   "id": "212e962e",
   "metadata": {},
   "outputs": [],
   "source": [
    "#created a function which will responsible to detect the outlier from the data and remove them\n",
    "#This function will return the filtered dataframe as well as the previous dataframe shape and current dataframe shape\n",
    "#Reason behind is that I can easily keep track the amount of data which I am lossing if that is too high then I can't do that\n",
    "def detect_outlier(data,col_name):\n",
    "    q1_list=sorted(data[col_name].tolist())\n",
    "    q3_list=sorted(data[col_name].tolist())\n",
    "    q1=np.percentile(q1_list,[25])[0]\n",
    "    q3=np.percentile(q3_list,[75])[0]\n",
    "    IQR=q3-q1\n",
    "    upper_bound=q3+1.5*IQR\n",
    "    lower_bound=q1-1.5*IQR\n",
    "    new_data=data[(data[col_name]>=lower_bound) & (data[col_name]<=upper_bound)]\n",
    "    new_data=new_data.reset_index(drop=True)\n",
    "    return new_data,data.shape,new_data.shape"
   ]
  },
  {
   "cell_type": "code",
   "execution_count": 47,
   "id": "c7430b29",
   "metadata": {},
   "outputs": [
    {
     "name": "stdout",
     "output_type": "stream",
     "text": [
      "(1539, 6) (1508, 6)\n"
     ]
    }
   ],
   "source": [
    "#Except the num ratings column others are too very skewed distribution\n",
    "#dataset has columns which contains outliers so it may affect the model but we cannot drop them because this variables are important for our analysis\n",
    "#so we try to handle the outliers in the data using InterQuartile Range\n",
    "new_data1,old_shape,new_shape=detect_outlier(data,\"rating\")\n",
    "print(old_shape,new_shape)\n",
    "#O here we can see that we loose very less data here so we can accept this removal"
   ]
  },
  {
   "cell_type": "code",
   "execution_count": 21,
   "id": "8c1a3559",
   "metadata": {},
   "outputs": [
    {
     "name": "stdout",
     "output_type": "stream",
     "text": [
      "(1508, 6) (1312, 6)\n"
     ]
    }
   ],
   "source": [
    "new_data2,old_shape,new_shape=detect_outlier(new_data1,\"num_ratings\")\n",
    "print(old_shape,new_shape)\n",
    "new_data2=new_data2.reset_index(drop=True)\n",
    "#Here we can see we are lossing almost 196 rows which will not be good as per me so I will not accept this removal\n",
    "#I will use new_data1 named dataframe for the next column's outlier detection"
   ]
  },
  {
   "cell_type": "code",
   "execution_count": 22,
   "id": "589e0562",
   "metadata": {},
   "outputs": [
    {
     "name": "stdout",
     "output_type": "stream",
     "text": [
      "(1508, 6) (1355, 6)\n"
     ]
    }
   ],
   "source": [
    "new_data3,old_shape,new_shape=detect_outlier(new_data1,\"num_reviews\")\n",
    "print(old_shape,new_shape)\n",
    "#Here we can see we are lossing almost 153 rows which will not be good as per me so I will not accept this removal\n",
    "#I will use new_data1 named dataframe for the next column's outlier detection"
   ]
  },
  {
   "cell_type": "code",
   "execution_count": 23,
   "id": "c427c9ec",
   "metadata": {},
   "outputs": [
    {
     "name": "stdout",
     "output_type": "stream",
     "text": [
      "(1508, 6) (1304, 6)\n"
     ]
    }
   ],
   "source": [
    "new_data4,old_shape,new_shape=detect_outlier(new_data1,\"num_followers\")\n",
    "print(old_shape,new_shape)\n",
    "new_data4=new_data4.reset_index(drop=True)\n",
    "#Here we can see we are lossing almost 200 rows which will not be good as per me so I will not accept this removal"
   ]
  },
  {
   "cell_type": "code",
   "execution_count": 24,
   "id": "2432fd1a",
   "metadata": {},
   "outputs": [
    {
     "data": {
      "text/html": [
       "<div>\n",
       "<style scoped>\n",
       "    .dataframe tbody tr th:only-of-type {\n",
       "        vertical-align: middle;\n",
       "    }\n",
       "\n",
       "    .dataframe tbody tr th {\n",
       "        vertical-align: top;\n",
       "    }\n",
       "\n",
       "    .dataframe thead th {\n",
       "        text-align: right;\n",
       "    }\n",
       "</style>\n",
       "<table border=\"1\" class=\"dataframe\">\n",
       "  <thead>\n",
       "    <tr style=\"text-align: right;\">\n",
       "      <th></th>\n",
       "      <th>rating</th>\n",
       "      <th>name</th>\n",
       "      <th>num_ratings</th>\n",
       "      <th>num_reviews</th>\n",
       "      <th>num_followers</th>\n",
       "      <th>genre</th>\n",
       "    </tr>\n",
       "  </thead>\n",
       "  <tbody>\n",
       "    <tr>\n",
       "      <th>0</th>\n",
       "      <td>4.39</td>\n",
       "      <td>Yuval Noah Harari</td>\n",
       "      <td>806229</td>\n",
       "      <td>46149</td>\n",
       "      <td>30500</td>\n",
       "      <td>history</td>\n",
       "    </tr>\n",
       "    <tr>\n",
       "      <th>1</th>\n",
       "      <td>4.04</td>\n",
       "      <td>Jared Diamond</td>\n",
       "      <td>367056</td>\n",
       "      <td>12879</td>\n",
       "      <td>6538</td>\n",
       "      <td>history</td>\n",
       "    </tr>\n",
       "    <tr>\n",
       "      <th>2</th>\n",
       "      <td>4.07</td>\n",
       "      <td>Howard Zinn</td>\n",
       "      <td>224620</td>\n",
       "      <td>6509</td>\n",
       "      <td>2354</td>\n",
       "      <td>history</td>\n",
       "    </tr>\n",
       "    <tr>\n",
       "      <th>3</th>\n",
       "      <td>3.99</td>\n",
       "      <td>Erik Larson</td>\n",
       "      <td>613157</td>\n",
       "      <td>36644</td>\n",
       "      <td>64200</td>\n",
       "      <td>history</td>\n",
       "    </tr>\n",
       "    <tr>\n",
       "      <th>4</th>\n",
       "      <td>4.18</td>\n",
       "      <td>Anne Frank</td>\n",
       "      <td>3313033</td>\n",
       "      <td>35591</td>\n",
       "      <td>4621</td>\n",
       "      <td>history</td>\n",
       "    </tr>\n",
       "  </tbody>\n",
       "</table>\n",
       "</div>"
      ],
      "text/plain": [
       "   rating               name  num_ratings  num_reviews  num_followers    genre\n",
       "0    4.39  Yuval Noah Harari       806229        46149          30500  history\n",
       "1    4.04      Jared Diamond       367056        12879           6538  history\n",
       "2    4.07        Howard Zinn       224620         6509           2354  history\n",
       "3    3.99        Erik Larson       613157        36644          64200  history\n",
       "4    4.18         Anne Frank      3313033        35591           4621  history"
      ]
     },
     "execution_count": 24,
     "metadata": {},
     "output_type": "execute_result"
    }
   ],
   "source": [
    "#the final data for further analysis\n",
    "new_data1.head()"
   ]
  },
  {
   "cell_type": "code",
   "execution_count": 25,
   "id": "7194c6e3",
   "metadata": {},
   "outputs": [
    {
     "data": {
      "text/plain": [
       "<seaborn.axisgrid.PairGrid at 0x1eb4a5b5b20>"
      ]
     },
     "execution_count": 25,
     "metadata": {},
     "output_type": "execute_result"
    },
    {
     "data": {
      "image/png": "[encoded data removed]",
      "text/plain": [
       "<Figure size 720x720 with 20 Axes>"
      ]
     },
     "metadata": {
      "needs_background": "light"
     },
     "output_type": "display_data"
    }
   ],
   "source": [
    "#Let's see the relationship among variables\n",
    "sns.pairplot(new_data1)"
   ]
  },
  {
   "cell_type": "code",
   "execution_count": 26,
   "id": "6789bcf0",
   "metadata": {
    "scrolled": true
   },
   "outputs": [
    {
     "data": {
      "text/plain": [
       "<AxesSubplot:>"
      ]
     },
     "execution_count": 26,
     "metadata": {},
     "output_type": "execute_result"
    },
    {
     "data": {
      "image/png": "[encoded data removed]",
      "text/plain": [
       "<Figure size 432x288 with 2 Axes>"
      ]
     },
     "metadata": {
      "needs_background": "light"
     },
     "output_type": "display_data"
    }
   ],
   "source": [
    "#from the above plots I feel num_reviews and num_ratings may have any correlation\n",
    "#so let's see the heatmap by which we can understand the correlation between them\n",
    "sns.heatmap(new_data1.corr(),annot=True,cmap=\"Blues\")"
   ]
  },
  {
   "cell_type": "code",
   "execution_count": null,
   "id": "10c866a3",
   "metadata": {},
   "outputs": [],
   "source": []
  },
  {
   "cell_type": "code",
   "execution_count": 27,
   "id": "73dee767",
   "metadata": {},
   "outputs": [],
   "source": [
    "#from the above analysis we can see that almost 0.80 correlation between num_reviews and num ratings and this may cause multicolinearity issue\n",
    "#so I should drop one of them because one variable can be explained by other one here\n",
    "# new_data1.drop([\"num_reviews\"],axis=1,inplace=True)\n",
    "#After dropping this feature I have seen logistic regression and svc both are not performing well so I am going to keep it\n",
    "#Since mostly We focus on tree based algorithm multicollinearity does not make any affect in the analysis"
   ]
  },
  {
   "cell_type": "code",
   "execution_count": 28,
   "id": "897155c6",
   "metadata": {},
   "outputs": [
    {
     "data": {
      "text/html": [
       "<div>\n",
       "<style scoped>\n",
       "    .dataframe tbody tr th:only-of-type {\n",
       "        vertical-align: middle;\n",
       "    }\n",
       "\n",
       "    .dataframe tbody tr th {\n",
       "        vertical-align: top;\n",
       "    }\n",
       "\n",
       "    .dataframe thead th {\n",
       "        text-align: right;\n",
       "    }\n",
       "</style>\n",
       "<table border=\"1\" class=\"dataframe\">\n",
       "  <thead>\n",
       "    <tr style=\"text-align: right;\">\n",
       "      <th></th>\n",
       "      <th>rating</th>\n",
       "      <th>name</th>\n",
       "      <th>num_ratings</th>\n",
       "      <th>num_reviews</th>\n",
       "      <th>num_followers</th>\n",
       "      <th>genre</th>\n",
       "    </tr>\n",
       "  </thead>\n",
       "  <tbody>\n",
       "    <tr>\n",
       "      <th>0</th>\n",
       "      <td>4.39</td>\n",
       "      <td>Yuval Noah Harari</td>\n",
       "      <td>806229</td>\n",
       "      <td>46149</td>\n",
       "      <td>30500</td>\n",
       "      <td>history</td>\n",
       "    </tr>\n",
       "    <tr>\n",
       "      <th>1</th>\n",
       "      <td>4.04</td>\n",
       "      <td>Jared Diamond</td>\n",
       "      <td>367056</td>\n",
       "      <td>12879</td>\n",
       "      <td>6538</td>\n",
       "      <td>history</td>\n",
       "    </tr>\n",
       "    <tr>\n",
       "      <th>2</th>\n",
       "      <td>4.07</td>\n",
       "      <td>Howard Zinn</td>\n",
       "      <td>224620</td>\n",
       "      <td>6509</td>\n",
       "      <td>2354</td>\n",
       "      <td>history</td>\n",
       "    </tr>\n",
       "    <tr>\n",
       "      <th>3</th>\n",
       "      <td>3.99</td>\n",
       "      <td>Erik Larson</td>\n",
       "      <td>613157</td>\n",
       "      <td>36644</td>\n",
       "      <td>64200</td>\n",
       "      <td>history</td>\n",
       "    </tr>\n",
       "    <tr>\n",
       "      <th>4</th>\n",
       "      <td>4.18</td>\n",
       "      <td>Anne Frank</td>\n",
       "      <td>3313033</td>\n",
       "      <td>35591</td>\n",
       "      <td>4621</td>\n",
       "      <td>history</td>\n",
       "    </tr>\n",
       "  </tbody>\n",
       "</table>\n",
       "</div>"
      ],
      "text/plain": [
       "   rating               name  num_ratings  num_reviews  num_followers    genre\n",
       "0    4.39  Yuval Noah Harari       806229        46149          30500  history\n",
       "1    4.04      Jared Diamond       367056        12879           6538  history\n",
       "2    4.07        Howard Zinn       224620         6509           2354  history\n",
       "3    3.99        Erik Larson       613157        36644          64200  history\n",
       "4    4.18         Anne Frank      3313033        35591           4621  history"
      ]
     },
     "execution_count": 28,
     "metadata": {},
     "output_type": "execute_result"
    }
   ],
   "source": [
    "#let's see the data\n",
    "new_data1.head()"
   ]
  },
  {
   "cell_type": "code",
   "execution_count": 29,
   "id": "2ad899e4",
   "metadata": {},
   "outputs": [
    {
     "data": {
      "text/plain": [
       "Stephen King       53\n",
       "Terry Pratchett    28\n",
       "Karin Slaughter    16\n",
       "David Baldacci     16\n",
       "Lee Child          15\n",
       "                   ..\n",
       "Susan Cain          1\n",
       "Daniel Kahneman     1\n",
       "Peter Benchley      1\n",
       "Robert Kirkman      1\n",
       "Grace Draven        1\n",
       "Name: name, Length: 827, dtype: int64"
      ]
     },
     "execution_count": 29,
     "metadata": {},
     "output_type": "execute_result"
    }
   ],
   "source": [
    "#let's see the occurences of authors\n",
    "new_data1[\"name\"].value_counts()"
   ]
  },
  {
   "cell_type": "code",
   "execution_count": 30,
   "id": "4c04e2ef",
   "metadata": {},
   "outputs": [],
   "source": [
    "#let's see handle categorcal columns here\n",
    "#Now name column has so many authors so I can keep top 5 most Occured authors and else convert to others\n",
    "most_frequent_author=list(new_data1[\"name\"].value_counts()[:3].index)\n",
    "for row in range(new_data1.shape[0]):\n",
    "    if new_data1.loc[row,\"name\"] not in most_frequent_author:\n",
    "        new_data1.loc[row,\"name\"]=\"Others\""
   ]
  },
  {
   "cell_type": "code",
   "execution_count": 31,
   "id": "267449f5",
   "metadata": {},
   "outputs": [],
   "source": [
    "#let's apply One Hot Encoding on categorical column name\n",
    "#Concatenate with One Hot Encoded output and the dataframe\n",
    "final_data=pd.concat([new_data1,pd.get_dummies(new_data1[\"name\"],drop_first=True)],axis=1)\n",
    "#dropping name column since now it has no use in the data\n",
    "final_data=final_data.drop([\"name\"],axis=1)"
   ]
  },
  {
   "cell_type": "code",
   "execution_count": 32,
   "id": "b5c2d819",
   "metadata": {},
   "outputs": [
    {
     "data": {
      "text/html": [
       "<div>\n",
       "<style scoped>\n",
       "    .dataframe tbody tr th:only-of-type {\n",
       "        vertical-align: middle;\n",
       "    }\n",
       "\n",
       "    .dataframe tbody tr th {\n",
       "        vertical-align: top;\n",
       "    }\n",
       "\n",
       "    .dataframe thead th {\n",
       "        text-align: right;\n",
       "    }\n",
       "</style>\n",
       "<table border=\"1\" class=\"dataframe\">\n",
       "  <thead>\n",
       "    <tr style=\"text-align: right;\">\n",
       "      <th></th>\n",
       "      <th>rating</th>\n",
       "      <th>num_ratings</th>\n",
       "      <th>num_reviews</th>\n",
       "      <th>num_followers</th>\n",
       "      <th>genre</th>\n",
       "      <th>Others</th>\n",
       "      <th>Stephen King</th>\n",
       "      <th>Terry Pratchett</th>\n",
       "    </tr>\n",
       "  </thead>\n",
       "  <tbody>\n",
       "    <tr>\n",
       "      <th>0</th>\n",
       "      <td>4.39</td>\n",
       "      <td>806229</td>\n",
       "      <td>46149</td>\n",
       "      <td>30500</td>\n",
       "      <td>history</td>\n",
       "      <td>1</td>\n",
       "      <td>0</td>\n",
       "      <td>0</td>\n",
       "    </tr>\n",
       "    <tr>\n",
       "      <th>1</th>\n",
       "      <td>4.04</td>\n",
       "      <td>367056</td>\n",
       "      <td>12879</td>\n",
       "      <td>6538</td>\n",
       "      <td>history</td>\n",
       "      <td>1</td>\n",
       "      <td>0</td>\n",
       "      <td>0</td>\n",
       "    </tr>\n",
       "    <tr>\n",
       "      <th>2</th>\n",
       "      <td>4.07</td>\n",
       "      <td>224620</td>\n",
       "      <td>6509</td>\n",
       "      <td>2354</td>\n",
       "      <td>history</td>\n",
       "      <td>1</td>\n",
       "      <td>0</td>\n",
       "      <td>0</td>\n",
       "    </tr>\n",
       "    <tr>\n",
       "      <th>3</th>\n",
       "      <td>3.99</td>\n",
       "      <td>613157</td>\n",
       "      <td>36644</td>\n",
       "      <td>64200</td>\n",
       "      <td>history</td>\n",
       "      <td>1</td>\n",
       "      <td>0</td>\n",
       "      <td>0</td>\n",
       "    </tr>\n",
       "    <tr>\n",
       "      <th>4</th>\n",
       "      <td>4.18</td>\n",
       "      <td>3313033</td>\n",
       "      <td>35591</td>\n",
       "      <td>4621</td>\n",
       "      <td>history</td>\n",
       "      <td>1</td>\n",
       "      <td>0</td>\n",
       "      <td>0</td>\n",
       "    </tr>\n",
       "  </tbody>\n",
       "</table>\n",
       "</div>"
      ],
      "text/plain": [
       "   rating  num_ratings  num_reviews  num_followers    genre  Others  \\\n",
       "0    4.39       806229        46149          30500  history       1   \n",
       "1    4.04       367056        12879           6538  history       1   \n",
       "2    4.07       224620         6509           2354  history       1   \n",
       "3    3.99       613157        36644          64200  history       1   \n",
       "4    4.18      3313033        35591           4621  history       1   \n",
       "\n",
       "   Stephen King  Terry Pratchett  \n",
       "0             0                0  \n",
       "1             0                0  \n",
       "2             0                0  \n",
       "3             0                0  \n",
       "4             0                0  "
      ]
     },
     "execution_count": 32,
     "metadata": {},
     "output_type": "execute_result"
    }
   ],
   "source": [
    "final_data.head()"
   ]
  },
  {
   "cell_type": "markdown",
   "id": "f9925339",
   "metadata": {},
   "source": [
    "### TASK - 1"
   ]
  },
  {
   "cell_type": "code",
   "execution_count": 33,
   "id": "acc27963",
   "metadata": {},
   "outputs": [
    {
     "data": {
      "text/plain": [
       "thriller           466\n",
       "fantasy            341\n",
       "romance            108\n",
       "history             99\n",
       "psychology          99\n",
       "travel              97\n",
       "horror              95\n",
       "science             79\n",
       "sports              79\n",
       "science_fiction     45\n",
       "Name: genre, dtype: int64"
      ]
     },
     "execution_count": 33,
     "metadata": {},
     "output_type": "execute_result"
    }
   ],
   "source": [
    "#Let's solve the first task problem where I have to build a model which will predict the genre\n",
    "#let's the value counts of genre\n",
    "final_data[\"genre\"].value_counts()"
   ]
  },
  {
   "cell_type": "code",
   "execution_count": 34,
   "id": "d0a959ac",
   "metadata": {},
   "outputs": [],
   "source": [
    "#let's divide the x and y\n",
    "X=final_data.drop(\"genre\",axis=1)\n",
    "Y=final_data[\"genre\"]"
   ]
  },
  {
   "cell_type": "code",
   "execution_count": 35,
   "id": "49e1d4af",
   "metadata": {},
   "outputs": [],
   "source": [
    "#it seems dataset is imbalanced so let's handle this one atfirst\n",
    "# Implementing Oversampling for Handling Imbalanced \n",
    "smk = SMOTETomek(random_state=42)\n",
    "X,Y=smk.fit_resample(X,Y)"
   ]
  },
  {
   "cell_type": "code",
   "execution_count": 36,
   "id": "c6cf3d09",
   "metadata": {},
   "outputs": [],
   "source": [
    "#let's label the target column\n",
    "#let's define a dictionary for labeling\n",
    "mapped_target={Y.unique()[i]:i for i in range(len(Y.unique()))}"
   ]
  },
  {
   "cell_type": "code",
   "execution_count": 37,
   "id": "72b18715",
   "metadata": {},
   "outputs": [],
   "source": [
    "#now let's label using mapped_target dictionary\n",
    "Y=Y.map(mapped_target)"
   ]
  },
  {
   "cell_type": "code",
   "execution_count": 38,
   "id": "fa4a4f69",
   "metadata": {},
   "outputs": [],
   "source": [
    "#let's do train test split and start builing the model\n",
    "X_train,X_test,y_train,y_test=train_test_split(X,Y,test_size=0.2,random_state=3)"
   ]
  },
  {
   "cell_type": "code",
   "execution_count": 39,
   "id": "9d4d5d02",
   "metadata": {},
   "outputs": [],
   "source": [
    "#resetting index of x_train\n",
    "X_train=X_train.reset_index(drop=True)"
   ]
  },
  {
   "cell_type": "code",
   "execution_count": 40,
   "id": "1edf1052",
   "metadata": {},
   "outputs": [],
   "source": [
    "#resetting index in X_test\n",
    "X_test=X_test.reset_index(drop=True)"
   ]
  },
  {
   "cell_type": "code",
   "execution_count": 41,
   "id": "b6bd68ec",
   "metadata": {},
   "outputs": [],
   "source": [
    "#let's apply scaling robust scaler to scale the data since data has outliers so it will work well here\n",
    "scaler=RobustScaler()\n",
    "#apply fit transform in the train data\n",
    "X_train=scaler.fit_transform(X_train)\n",
    "#apply transform in the test data\n",
    "X_test=scaler.transform(X_test)"
   ]
  },
  {
   "cell_type": "code",
   "execution_count": 42,
   "id": "f2f292d9",
   "metadata": {},
   "outputs": [],
   "source": [
    "#let's try Logistics Regression model\n",
    "lg=LogisticRegression(multi_class=\"multinomial\")\n",
    "kf=KFold()\n",
    "#apply hyperparameter tuning using kfold cross validation\n",
    "params={\"penalty\":['l1', 'l2', 'elasticnet'],\"tol\":[1e-1,1e-2,1e-3,1e-4],\"solver\":['lbfgs','liblinear','newton-cg','newton-cholesky','sag','saga']}\n",
    "#applying grid search cv to get the best parameter\n",
    "tune=GridSearchCV(estimator=lg,param_grid=params,cv=kf)\n",
    "#fitting the in GridsearchCv\n",
    "#getting the best parameter\n",
    "best_params_logistics=tune.fit(X_train,y_train).best_params_"
   ]
  },
  {
   "cell_type": "code",
   "execution_count": 43,
   "id": "06a9bd2e",
   "metadata": {},
   "outputs": [
    {
     "name": "stdout",
     "output_type": "stream",
     "text": [
      "Train Accuracy--> 0.3954733543736838\n",
      "Test Accuracy--> 0.3868818756611574\n"
     ]
    }
   ],
   "source": [
    "#let's apply the best params for training the model\n",
    "# lg=LogisticRegression(penalty=best_params_logistics[\"penalty\"],solver=best_params_logistics[\"solver\"],tol=best_params_logistics[\"tol\"],multi_class=\"auto\")\n",
    "lg=LogisticRegression()\n",
    "#fitting the model\n",
    "lg.fit(X_train,y_train)\n",
    "#predict the train data\n",
    "train_prediction=lg.predict(X_train)\n",
    "#predict test data\n",
    "test_prediction=lg.predict(X_test)\n",
    "#calculating f1 score to check the model accuracy\n",
    "print(\"Train Accuracy-->\",f1_score(y_train,train_prediction,average=\"weighted\"))\n",
    "print(\"Test Accuracy-->\",f1_score(y_test,test_prediction,average=\"weighted\"))"
   ]
  },
  {
   "cell_type": "code",
   "execution_count": 44,
   "id": "03322fbf",
   "metadata": {},
   "outputs": [
    {
     "name": "stdout",
     "output_type": "stream",
     "text": [
      "Train Accuracy--> 0.2243857515897748\n",
      "Test Accuracy--> 0.2117891613147633\n"
     ]
    }
   ],
   "source": [
    "#let's try GaussianNB model\n",
    "gn=GaussianNB(var_smoothing=1e-3)\n",
    "#fitting the model\n",
    "gn.fit(X_train,y_train)\n",
    "#predict the train data\n",
    "train_prediction=gn.predict(X_train)\n",
    "#predict test data\n",
    "test_prediction=gn.predict(X_test)\n",
    "#calculating f1 score to check the model accuracy\n",
    "print(\"Train Accuracy-->\",f1_score(y_train,train_prediction,average=\"weighted\"))\n",
    "print(\"Test Accuracy-->\",f1_score(y_test,test_prediction,average=\"weighted\"))"
   ]
  },
  {
   "cell_type": "code",
   "execution_count": null,
   "id": "3efe6fe4",
   "metadata": {},
   "outputs": [],
   "source": [
    "#let's try SVC model\n",
    "svc=SVC(random_state=42)\n",
    "kf=KFold()\n",
    "#apply hyperparameter tuning using kfold cross validation\n",
    "params={\"kernel\":['linear', 'poly', 'rbf', 'sigmoid'],\"degree\":[1,2,3],\"gamma\":['scale', 'auto'],\"tol\":[1e-1,1e-2,1e-3]}\n",
    "#applying grid search cv to get the best parameter\n",
    "tune=GridSearchCV(estimator=svc,param_grid=params,cv=kf)\n",
    "#getting the best parameter\n",
    "best_params_svc=tune.fit(X_train,y_train).best_params_"
   ]
  },
  {
   "cell_type": "code",
   "execution_count": null,
   "id": "7e20801d",
   "metadata": {},
   "outputs": [],
   "source": [
    "#let's apply the best params for training the model\n",
    "svc=SVC(kernel=best_params_svc[\"kernel\"],degree=best_params_svc[\"degree\"],gamma=best_params_svc[\"gamma\"],tol=best_params_svc[\"tol\"],random_state=42)\n",
    "#fitting the model\n",
    "svc.fit(X_train,y_train)\n",
    "#predict the train data\n",
    "train_prediction=svc.predict(X_train)\n",
    "#predict test data\n",
    "test_prediction=svc.predict(X_test)\n",
    "#calculating f1 score to check the model accuracy\n",
    "print(\"Train Accuracy-->\",f1_score(train_prediction,y_train,average=\"weighted\"))\n",
    "print(\"Test Accuracy-->\",f1_score(test_prediction,y_test,average=\"weighted\"))"
   ]
  },
  {
   "cell_type": "code",
   "execution_count": 45,
   "id": "27e30b6f",
   "metadata": {},
   "outputs": [],
   "source": [
    "#let's try Decision Tree model\n",
    "dt=DecisionTreeClassifier(random_state=42)\n",
    "kf=KFold()\n",
    "#apply hyperparameter tuning using kfold cross validation\n",
    "params={\"criterion\":['gini', 'entropy', 'log_loss'],\"splitter\":['best', 'random'],\"max_depth\":range(2,32)}\n",
    "#applying grid search cv to get the best parameter\n",
    "tune=GridSearchCV(estimator=dt,param_grid=params,cv=kf)\n",
    "#fitting the in GridsearchCv\n",
    "#getting the best parameter\n",
    "best_params_decisiontree=tune.fit(X_train,y_train).best_params_"
   ]
  },
  {
   "cell_type": "code",
   "execution_count": 46,
   "id": "4be68b6c",
   "metadata": {},
   "outputs": [
    {
     "name": "stdout",
     "output_type": "stream",
     "text": [
      "Train Accuracy--> 0.786612715456139\n",
      "Test Accuracy--> 0.7061504467203202\n"
     ]
    }
   ],
   "source": [
    "## I tried to use grid search cv but I am not getting the result properly so I tried to put manually values to check the overfitting\n",
    "dt=DecisionTreeClassifier(max_depth=11,min_samples_split=5,max_features=6,random_state=5)\n",
    "#fitting the model\n",
    "dt.fit(X_train,y_train)\n",
    "#predict the train data\n",
    "train_prediction=dt.predict(X_train)\n",
    "#predict test data\n",
    "test_prediction=dt.predict(X_test)\n",
    "#calculating f1 score to check the model accuracy\n",
    "print(\"Train Accuracy-->\",f1_score(y_train,train_prediction,average=\"weighted\"))\n",
    "print(\"Test Accuracy-->\",f1_score(y_test,test_prediction,average=\"weighted\"))"
   ]
  },
  {
   "cell_type": "code",
   "execution_count": 47,
   "id": "99d4e7ea",
   "metadata": {},
   "outputs": [],
   "source": [
    "#let's try Random Forest model\n",
    "rf=RandomForestClassifier(n_estimators=64,random_state=42)\n",
    "kf=KFold()\n",
    "#apply hyperparameter tuning using kfold cross validation\n",
    "params={\"criterion\":['gini', 'entropy', 'log_loss'],\"max_depth\":range(2,32)}\n",
    "#applying grid search cv to get the best parameter\n",
    "tune=GridSearchCV(estimator=rf,param_grid=params,cv=kf)\n",
    "#fitting the in GridsearchCv\n",
    "#getting the best parameter\n",
    "best_params_randomforest=tune.fit(X_train,y_train).best_params_"
   ]
  },
  {
   "cell_type": "code",
   "execution_count": 48,
   "id": "df6e7b7b",
   "metadata": {},
   "outputs": [
    {
     "name": "stdout",
     "output_type": "stream",
     "text": [
      "Train Accuracy--> 0.99\n",
      "Test Accuracy--> 0.819\n"
     ]
    }
   ],
   "source": [
    "## I tried to use grid search cv but I am not getting the result properly so I tried to put manually values to check the overfitting\n",
    "rf=RandomForestClassifier(n_estimators=68,max_depth=15,min_samples_split=4,max_features=6,random_state=5)\n",
    "#fitting the model\n",
    "rf.fit(X_train,y_train)\n",
    "#predict the train data\n",
    "train_prediction=rf.predict(X_train)\n",
    "#predict test data\n",
    "test_prediction=rf.predict(X_test)\n",
    "#calculating f1 score to check the model accuracy\n",
    "print(\"Train Accuracy-->\",round(f1_score(y_train,train_prediction,average=\"weighted\"),3))\n",
    "print(\"Test Accuracy-->\",round(f1_score(y_test,test_prediction,average=\"weighted\"),3))"
   ]
  },
  {
   "cell_type": "code",
   "execution_count": 49,
   "id": "fbbb547a",
   "metadata": {},
   "outputs": [],
   "source": [
    "#let's try Adaboost model\n",
    "adc=AdaBoostClassifier(DecisionTreeClassifier(max_depth=11,min_samples_split=5,max_features=6,random_state=5),random_state=5)\n",
    "kf=KFold()\n",
    "#apply hyperparameter tuning using kfold cross validation\n",
    "params={\"n_estimators\":[32,64,128,256],\"learning_rate\":[0.1,0.001,0.0001,0.00001,0.05,0.005,0.0005]}\n",
    "#applying grid search cv to get the best parameter\n",
    "tune=GridSearchCV(estimator=adc,param_grid=params,cv=kf)\n",
    "#fitting the in GridsearchCv\n",
    "#getting the best parameter\n",
    "best_params_adaboost=tune.fit(X_train,y_train).best_params_"
   ]
  },
  {
   "cell_type": "code",
   "execution_count": 50,
   "id": "c666fe9c",
   "metadata": {},
   "outputs": [
    {
     "name": "stdout",
     "output_type": "stream",
     "text": [
      "Train Accuracy--> 1.0\n",
      "Test Accuracy--> 0.8532773378932076\n"
     ]
    }
   ],
   "source": [
    "#let's apply the adaboost classifier model\n",
    "adc=AdaBoostClassifier(DecisionTreeClassifier(max_depth=11,min_samples_split=5,max_features=6,random_state=5),learning_rate=best_params_adaboost[\"learning_rate\"],n_estimators=best_params_adaboost[\"n_estimators\"],random_state=5)\n",
    "#fitting the model\n",
    "adc.fit(X_train,y_train)\n",
    "#predict the train data\n",
    "train_prediction=adc.predict(X_train)\n",
    "#predict test data\n",
    "test_prediction=adc.predict(X_test)\n",
    "#calculating f1 score to check the model accuracy\n",
    "print(\"Train Accuracy-->\",f1_score(y_train,train_prediction,average=\"weighted\"))\n",
    "print(\"Test Accuracy-->\",f1_score(y_test,test_prediction,average=\"weighted\"))\n",
    "#I tried to put manually this parameters but it was not working well so I put those tuned values here"
   ]
  },
  {
   "cell_type": "code",
   "execution_count": null,
   "id": "5d566f0c",
   "metadata": {},
   "outputs": [],
   "source": [
    "#let's try Gradient Boost model\n",
    "gbc=GradientBoostingClassifier(random_state=5)\n",
    "kf=KFold()\n",
    "#apply hyperparameter tuning using kfold cross validation\n",
    "params={\"n_estimators\":[32,64,128,256],\"learning_rate\":[0.1,0.001,0.0001,0.00001,0.05,0.005,0.0005],\"max_depth\":range(2,32)}\n",
    "#applying grid search cv to get the best parameter\n",
    "tune=GridSearchCV(estimator=gbc,param_grid=params,cv=kf)\n",
    "#fitting the in GridsearchCv\n",
    "#getting the best parameter\n",
    "best_params_gradientboost=tune.fit(X_train,y_train).best_params_"
   ]
  },
  {
   "cell_type": "code",
   "execution_count": null,
   "id": "f042d1d2",
   "metadata": {},
   "outputs": [],
   "source": [
    "#let's apply the gradient boosting classifier model\n",
    "gbc=GradientBoostingClassifier(learning_rate=best_params_gradientboost[\"learning_rate\"],n_estimators=best_params_gradientboost[\"n_estimators\"],max_depth=best_params_gradientboost[\"max_depth\"],random_state=5)\n",
    "#fitting the model\n",
    "gbc.fit(X_train,y_train)\n",
    "#predict the train data\n",
    "train_prediction=gbc.predict(X_train)\n",
    "#predict test data\n",
    "test_prediction=gbc.predict(X_test)\n",
    "#calculating f1 score to check the model accuracy\n",
    "print(\"Train Accuracy-->\",f1_score(y_train,train_prediction,average=\"weighted\"))\n",
    "print(\"Test Accuracy-->\",f1_score(y_test,test_prediction,average=\"weighted\"))\n",
    "#I tried to put manually this parameters but it was not working well so I put those tuned values here"
   ]
  },
  {
   "cell_type": "code",
   "execution_count": 53,
   "id": "19ecc8b5",
   "metadata": {},
   "outputs": [
    {
     "name": "stdout",
     "output_type": "stream",
     "text": [
      "Train Accuracy--> 0.9390196046914421\n",
      "Test Accuracy--> 0.7568541066250931\n"
     ]
    }
   ],
   "source": [
    "#let's apply the XGBoost classifier model\n",
    "XG=XGBClassifier(gamma=1)\n",
    "#fitting the model\n",
    "XG.fit(X_train,y_train)\n",
    "#predict the train data\n",
    "train_prediction=XG.predict(X_train)\n",
    "#predict test data\n",
    "test_prediction=XG.predict(X_test)\n",
    "#calculating f1 score to check the model accuracy\n",
    "print(\"Train Accuracy-->\",f1_score(y_train,train_prediction,average=\"weighted\"))\n",
    "print(\"Test Accuracy-->\",f1_score(y_test,test_prediction,average=\"weighted\"))"
   ]
  },
  {
   "cell_type": "code",
   "execution_count": 54,
   "id": "5620c757",
   "metadata": {},
   "outputs": [
    {
     "data": {
      "text/plain": [
       "0      2\n",
       "1      7\n",
       "2      5\n",
       "3      1\n",
       "4      5\n",
       "      ..\n",
       "806    8\n",
       "807    3\n",
       "808    5\n",
       "809    4\n",
       "810    5\n",
       "Length: 811, dtype: int64"
      ]
     },
     "execution_count": 54,
     "metadata": {},
     "output_type": "execute_result"
    }
   ],
   "source": [
    "## After tuning all the models most of them just overfitted I tried to change parameters and differnet ways to reduce the overfitting\n",
    "## So At last I selected decsion tree as my final model\n",
    "#Here 78% training and 70% testing accuracy I achieved\n",
    "genres=pd.Series(dt.predict(X_test))\n",
    "genres"
   ]
  },
  {
   "cell_type": "code",
   "execution_count": 55,
   "id": "b074839c",
   "metadata": {},
   "outputs": [
    {
     "data": {
      "text/plain": [
       "['psychology',\n",
       " 'thriller',\n",
       " 'science_fiction',\n",
       " 'horror',\n",
       " 'science_fiction',\n",
       " 'romance',\n",
       " 'romance',\n",
       " 'history',\n",
       " 'science_fiction',\n",
       " 'fantasy',\n",
       " 'horror',\n",
       " 'sports',\n",
       " 'romance',\n",
       " 'fantasy',\n",
       " 'thriller',\n",
       " 'fantasy',\n",
       " 'romance',\n",
       " 'travel',\n",
       " 'science',\n",
       " 'science_fiction',\n",
       " 'science',\n",
       " 'sports',\n",
       " 'romance',\n",
       " 'travel',\n",
       " 'science_fiction',\n",
       " 'fantasy',\n",
       " 'science',\n",
       " 'science',\n",
       " 'science_fiction',\n",
       " 'thriller',\n",
       " 'fantasy',\n",
       " 'science',\n",
       " 'sports',\n",
       " 'romance',\n",
       " 'romance',\n",
       " 'fantasy',\n",
       " 'sports',\n",
       " 'fantasy',\n",
       " 'sports',\n",
       " 'science_fiction',\n",
       " 'fantasy',\n",
       " 'science_fiction',\n",
       " 'travel',\n",
       " 'thriller',\n",
       " 'horror',\n",
       " 'travel',\n",
       " 'history',\n",
       " 'science_fiction',\n",
       " 'horror',\n",
       " 'romance',\n",
       " 'sports',\n",
       " 'sports',\n",
       " 'romance',\n",
       " 'horror',\n",
       " 'fantasy',\n",
       " 'science',\n",
       " 'travel',\n",
       " 'science_fiction',\n",
       " 'science',\n",
       " 'travel',\n",
       " 'sports',\n",
       " 'thriller',\n",
       " 'science_fiction',\n",
       " 'horror',\n",
       " 'history',\n",
       " 'science_fiction',\n",
       " 'history',\n",
       " 'science',\n",
       " 'fantasy',\n",
       " 'psychology',\n",
       " 'psychology',\n",
       " 'thriller',\n",
       " 'science_fiction',\n",
       " 'science',\n",
       " 'thriller',\n",
       " 'history',\n",
       " 'science',\n",
       " 'thriller',\n",
       " 'horror',\n",
       " 'fantasy',\n",
       " 'history',\n",
       " 'horror',\n",
       " 'sports',\n",
       " 'history',\n",
       " 'science',\n",
       " 'history',\n",
       " 'history',\n",
       " 'romance',\n",
       " 'science_fiction',\n",
       " 'psychology',\n",
       " 'history',\n",
       " 'science_fiction',\n",
       " 'science_fiction',\n",
       " 'romance',\n",
       " 'science_fiction',\n",
       " 'sports',\n",
       " 'sports',\n",
       " 'science_fiction',\n",
       " 'science',\n",
       " 'horror',\n",
       " 'romance',\n",
       " 'science',\n",
       " 'romance',\n",
       " 'psychology',\n",
       " 'science_fiction',\n",
       " 'psychology',\n",
       " 'travel',\n",
       " 'fantasy',\n",
       " 'science_fiction',\n",
       " 'horror',\n",
       " 'psychology',\n",
       " 'romance',\n",
       " 'science',\n",
       " 'romance',\n",
       " 'history',\n",
       " 'horror',\n",
       " 'romance',\n",
       " 'science',\n",
       " 'science',\n",
       " 'psychology',\n",
       " 'travel',\n",
       " 'sports',\n",
       " 'science_fiction',\n",
       " 'history',\n",
       " 'psychology',\n",
       " 'romance',\n",
       " 'thriller',\n",
       " 'science_fiction',\n",
       " 'sports',\n",
       " 'romance',\n",
       " 'romance',\n",
       " 'history',\n",
       " 'horror',\n",
       " 'science',\n",
       " 'science',\n",
       " 'science_fiction',\n",
       " 'sports',\n",
       " 'romance',\n",
       " 'romance',\n",
       " 'thriller',\n",
       " 'sports',\n",
       " 'science',\n",
       " 'thriller',\n",
       " 'sports',\n",
       " 'science',\n",
       " 'science',\n",
       " 'science_fiction',\n",
       " 'romance',\n",
       " 'science',\n",
       " 'science',\n",
       " 'romance',\n",
       " 'fantasy',\n",
       " 'science_fiction',\n",
       " 'history',\n",
       " 'romance',\n",
       " 'romance',\n",
       " 'science_fiction',\n",
       " 'fantasy',\n",
       " 'science',\n",
       " 'science_fiction',\n",
       " 'psychology',\n",
       " 'science',\n",
       " 'history',\n",
       " 'science',\n",
       " 'science_fiction',\n",
       " 'sports',\n",
       " 'history',\n",
       " 'sports',\n",
       " 'science_fiction',\n",
       " 'science_fiction',\n",
       " 'science',\n",
       " 'science_fiction',\n",
       " 'thriller',\n",
       " 'horror',\n",
       " 'romance',\n",
       " 'psychology',\n",
       " 'sports',\n",
       " 'horror',\n",
       " 'history',\n",
       " 'science',\n",
       " 'horror',\n",
       " 'sports',\n",
       " 'psychology',\n",
       " 'science_fiction',\n",
       " 'science_fiction',\n",
       " 'romance',\n",
       " 'psychology',\n",
       " 'fantasy',\n",
       " 'history',\n",
       " 'science',\n",
       " 'horror',\n",
       " 'history',\n",
       " 'sports',\n",
       " 'sports',\n",
       " 'history',\n",
       " 'science_fiction',\n",
       " 'science',\n",
       " 'fantasy',\n",
       " 'sports',\n",
       " 'fantasy',\n",
       " 'romance',\n",
       " 'history',\n",
       " 'history',\n",
       " 'thriller',\n",
       " 'history',\n",
       " 'romance',\n",
       " 'sports',\n",
       " 'fantasy',\n",
       " 'science',\n",
       " 'history',\n",
       " 'romance',\n",
       " 'sports',\n",
       " 'romance',\n",
       " 'thriller',\n",
       " 'horror',\n",
       " 'science_fiction',\n",
       " 'science',\n",
       " 'science_fiction',\n",
       " 'science',\n",
       " 'thriller',\n",
       " 'fantasy',\n",
       " 'science_fiction',\n",
       " 'psychology',\n",
       " 'romance',\n",
       " 'fantasy',\n",
       " 'sports',\n",
       " 'history',\n",
       " 'sports',\n",
       " 'thriller',\n",
       " 'thriller',\n",
       " 'fantasy',\n",
       " 'romance',\n",
       " 'science',\n",
       " 'psychology',\n",
       " 'sports',\n",
       " 'science_fiction',\n",
       " 'psychology',\n",
       " 'science_fiction',\n",
       " 'romance',\n",
       " 'travel',\n",
       " 'history',\n",
       " 'horror',\n",
       " 'thriller',\n",
       " 'thriller',\n",
       " 'travel',\n",
       " 'history',\n",
       " 'thriller',\n",
       " 'thriller',\n",
       " 'romance',\n",
       " 'travel',\n",
       " 'horror',\n",
       " 'thriller',\n",
       " 'travel',\n",
       " 'history',\n",
       " 'psychology',\n",
       " 'fantasy',\n",
       " 'history',\n",
       " 'horror',\n",
       " 'science',\n",
       " 'psychology',\n",
       " 'fantasy',\n",
       " 'science',\n",
       " 'psychology',\n",
       " 'history',\n",
       " 'fantasy',\n",
       " 'science',\n",
       " 'horror',\n",
       " 'thriller',\n",
       " 'romance',\n",
       " 'romance',\n",
       " 'science',\n",
       " 'science',\n",
       " 'horror',\n",
       " 'sports',\n",
       " 'fantasy',\n",
       " 'romance',\n",
       " 'history',\n",
       " 'horror',\n",
       " 'sports',\n",
       " 'science_fiction',\n",
       " 'history',\n",
       " 'horror',\n",
       " 'horror',\n",
       " 'travel',\n",
       " 'travel',\n",
       " 'history',\n",
       " 'travel',\n",
       " 'psychology',\n",
       " 'history',\n",
       " 'fantasy',\n",
       " 'sports',\n",
       " 'psychology',\n",
       " 'thriller',\n",
       " 'psychology',\n",
       " 'science',\n",
       " 'sports',\n",
       " 'science',\n",
       " 'sports',\n",
       " 'sports',\n",
       " 'science_fiction',\n",
       " 'science_fiction',\n",
       " 'psychology',\n",
       " 'sports',\n",
       " 'history',\n",
       " 'science',\n",
       " 'thriller',\n",
       " 'travel',\n",
       " 'science_fiction',\n",
       " 'thriller',\n",
       " 'science_fiction',\n",
       " 'travel',\n",
       " 'psychology',\n",
       " 'horror',\n",
       " 'science_fiction',\n",
       " 'science_fiction',\n",
       " 'romance',\n",
       " 'history',\n",
       " 'travel',\n",
       " 'history',\n",
       " 'horror',\n",
       " 'thriller',\n",
       " 'romance',\n",
       " 'history',\n",
       " 'sports',\n",
       " 'fantasy',\n",
       " 'fantasy',\n",
       " 'thriller',\n",
       " 'travel',\n",
       " 'history',\n",
       " 'science_fiction',\n",
       " 'travel',\n",
       " 'history',\n",
       " 'science',\n",
       " 'fantasy',\n",
       " 'horror',\n",
       " 'sports',\n",
       " 'sports',\n",
       " 'fantasy',\n",
       " 'horror',\n",
       " 'fantasy',\n",
       " 'thriller',\n",
       " 'history',\n",
       " 'science',\n",
       " 'romance',\n",
       " 'science_fiction',\n",
       " 'science',\n",
       " 'horror',\n",
       " 'fantasy',\n",
       " 'science',\n",
       " 'science_fiction',\n",
       " 'horror',\n",
       " 'history',\n",
       " 'science',\n",
       " 'psychology',\n",
       " 'romance',\n",
       " 'science',\n",
       " 'science_fiction',\n",
       " 'romance',\n",
       " 'science',\n",
       " 'horror',\n",
       " 'sports',\n",
       " 'science_fiction',\n",
       " 'travel',\n",
       " 'travel',\n",
       " 'psychology',\n",
       " 'science_fiction',\n",
       " 'fantasy',\n",
       " 'romance',\n",
       " 'thriller',\n",
       " 'history',\n",
       " 'travel',\n",
       " 'horror',\n",
       " 'history',\n",
       " 'science_fiction',\n",
       " 'history',\n",
       " 'psychology',\n",
       " 'science_fiction',\n",
       " 'science',\n",
       " 'history',\n",
       " 'romance',\n",
       " 'romance',\n",
       " 'thriller',\n",
       " 'sports',\n",
       " 'horror',\n",
       " 'psychology',\n",
       " 'travel',\n",
       " 'science',\n",
       " 'science',\n",
       " 'science',\n",
       " 'travel',\n",
       " 'science_fiction',\n",
       " 'romance',\n",
       " 'romance',\n",
       " 'sports',\n",
       " 'thriller',\n",
       " 'horror',\n",
       " 'science_fiction',\n",
       " 'science_fiction',\n",
       " 'history',\n",
       " 'history',\n",
       " 'science',\n",
       " 'history',\n",
       " 'history',\n",
       " 'romance',\n",
       " 'science',\n",
       " 'science_fiction',\n",
       " 'history',\n",
       " 'travel',\n",
       " 'fantasy',\n",
       " 'science_fiction',\n",
       " 'romance',\n",
       " 'psychology',\n",
       " 'romance',\n",
       " 'fantasy',\n",
       " 'romance',\n",
       " 'fantasy',\n",
       " 'psychology',\n",
       " 'horror',\n",
       " 'science',\n",
       " 'travel',\n",
       " 'romance',\n",
       " 'history',\n",
       " 'romance',\n",
       " 'fantasy',\n",
       " 'fantasy',\n",
       " 'fantasy',\n",
       " 'science_fiction',\n",
       " 'science',\n",
       " 'history',\n",
       " 'romance',\n",
       " 'psychology',\n",
       " 'thriller',\n",
       " 'thriller',\n",
       " 'science_fiction',\n",
       " 'science',\n",
       " 'fantasy',\n",
       " 'thriller',\n",
       " 'horror',\n",
       " 'science_fiction',\n",
       " 'thriller',\n",
       " 'romance',\n",
       " 'psychology',\n",
       " 'romance',\n",
       " 'psychology',\n",
       " 'thriller',\n",
       " 'science',\n",
       " 'thriller',\n",
       " 'sports',\n",
       " 'science_fiction',\n",
       " 'science_fiction',\n",
       " 'history',\n",
       " 'romance',\n",
       " 'fantasy',\n",
       " 'romance',\n",
       " 'horror',\n",
       " 'science',\n",
       " 'science_fiction',\n",
       " 'science_fiction',\n",
       " 'history',\n",
       " 'thriller',\n",
       " 'romance',\n",
       " 'science_fiction',\n",
       " 'travel',\n",
       " 'fantasy',\n",
       " 'sports',\n",
       " 'horror',\n",
       " 'psychology',\n",
       " 'travel',\n",
       " 'thriller',\n",
       " 'horror',\n",
       " 'fantasy',\n",
       " 'history',\n",
       " 'thriller',\n",
       " 'science_fiction',\n",
       " 'sports',\n",
       " 'horror',\n",
       " 'horror',\n",
       " 'sports',\n",
       " 'science',\n",
       " 'science_fiction',\n",
       " 'sports',\n",
       " 'fantasy',\n",
       " 'horror',\n",
       " 'thriller',\n",
       " 'psychology',\n",
       " 'horror',\n",
       " 'fantasy',\n",
       " 'romance',\n",
       " 'sports',\n",
       " 'sports',\n",
       " 'thriller',\n",
       " 'horror',\n",
       " 'science_fiction',\n",
       " 'science',\n",
       " 'romance',\n",
       " 'psychology',\n",
       " 'psychology',\n",
       " 'science_fiction',\n",
       " 'horror',\n",
       " 'science_fiction',\n",
       " 'travel',\n",
       " 'thriller',\n",
       " 'thriller',\n",
       " 'thriller',\n",
       " 'thriller',\n",
       " 'science',\n",
       " 'science_fiction',\n",
       " 'romance',\n",
       " 'history',\n",
       " 'romance',\n",
       " 'history',\n",
       " 'science',\n",
       " 'psychology',\n",
       " 'thriller',\n",
       " 'horror',\n",
       " 'science_fiction',\n",
       " 'horror',\n",
       " 'history',\n",
       " 'science',\n",
       " 'travel',\n",
       " 'sports',\n",
       " 'horror',\n",
       " 'romance',\n",
       " 'romance',\n",
       " 'sports',\n",
       " 'history',\n",
       " 'psychology',\n",
       " 'science_fiction',\n",
       " 'romance',\n",
       " 'history',\n",
       " 'psychology',\n",
       " 'horror',\n",
       " 'psychology',\n",
       " 'horror',\n",
       " 'fantasy',\n",
       " 'fantasy',\n",
       " 'psychology',\n",
       " 'horror',\n",
       " 'fantasy',\n",
       " 'science_fiction',\n",
       " 'sports',\n",
       " 'travel',\n",
       " 'science_fiction',\n",
       " 'history',\n",
       " 'psychology',\n",
       " 'fantasy',\n",
       " 'horror',\n",
       " 'travel',\n",
       " 'fantasy',\n",
       " 'science',\n",
       " 'psychology',\n",
       " 'romance',\n",
       " 'history',\n",
       " 'sports',\n",
       " 'travel',\n",
       " 'fantasy',\n",
       " 'fantasy',\n",
       " 'horror',\n",
       " 'travel',\n",
       " 'horror',\n",
       " 'science_fiction',\n",
       " 'science',\n",
       " 'psychology',\n",
       " 'science_fiction',\n",
       " 'science',\n",
       " 'romance',\n",
       " 'romance',\n",
       " 'psychology',\n",
       " 'fantasy',\n",
       " 'travel',\n",
       " 'fantasy',\n",
       " 'history',\n",
       " 'travel',\n",
       " 'horror',\n",
       " 'romance',\n",
       " 'romance',\n",
       " 'science_fiction',\n",
       " 'horror',\n",
       " 'romance',\n",
       " 'fantasy',\n",
       " 'science_fiction',\n",
       " 'science',\n",
       " 'sports',\n",
       " 'romance',\n",
       " 'psychology',\n",
       " 'travel',\n",
       " 'travel',\n",
       " 'psychology',\n",
       " 'science_fiction',\n",
       " 'science',\n",
       " 'fantasy',\n",
       " 'science',\n",
       " 'thriller',\n",
       " 'travel',\n",
       " 'sports',\n",
       " 'science_fiction',\n",
       " 'travel',\n",
       " 'history',\n",
       " 'psychology',\n",
       " 'science',\n",
       " 'romance',\n",
       " 'science_fiction',\n",
       " 'sports',\n",
       " 'science_fiction',\n",
       " 'romance',\n",
       " 'history',\n",
       " 'science',\n",
       " 'sports',\n",
       " 'thriller',\n",
       " 'history',\n",
       " 'psychology',\n",
       " 'sports',\n",
       " 'science_fiction',\n",
       " 'horror',\n",
       " 'science',\n",
       " 'psychology',\n",
       " 'romance',\n",
       " 'history',\n",
       " 'science_fiction',\n",
       " 'horror',\n",
       " 'thriller',\n",
       " 'sports',\n",
       " 'horror',\n",
       " 'science',\n",
       " 'history',\n",
       " 'psychology',\n",
       " 'psychology',\n",
       " 'horror',\n",
       " 'science',\n",
       " 'fantasy',\n",
       " 'science',\n",
       " 'psychology',\n",
       " 'history',\n",
       " 'sports',\n",
       " 'horror',\n",
       " 'history',\n",
       " 'romance',\n",
       " 'psychology',\n",
       " 'fantasy',\n",
       " 'science_fiction',\n",
       " 'history',\n",
       " 'travel',\n",
       " 'science_fiction',\n",
       " 'history',\n",
       " 'travel',\n",
       " 'sports',\n",
       " 'history',\n",
       " 'history',\n",
       " 'horror',\n",
       " 'thriller',\n",
       " 'horror',\n",
       " 'sports',\n",
       " 'science_fiction',\n",
       " 'travel',\n",
       " 'romance',\n",
       " 'travel',\n",
       " 'history',\n",
       " 'science',\n",
       " 'science',\n",
       " 'romance',\n",
       " 'romance',\n",
       " 'sports',\n",
       " 'fantasy',\n",
       " 'fantasy',\n",
       " 'history',\n",
       " 'fantasy',\n",
       " 'history',\n",
       " 'travel',\n",
       " 'science',\n",
       " 'romance',\n",
       " 'thriller',\n",
       " 'fantasy',\n",
       " 'psychology',\n",
       " 'horror',\n",
       " 'travel',\n",
       " 'fantasy',\n",
       " 'history',\n",
       " 'science',\n",
       " 'science',\n",
       " 'history',\n",
       " 'science_fiction',\n",
       " 'romance',\n",
       " 'horror',\n",
       " 'science',\n",
       " 'psychology',\n",
       " 'travel',\n",
       " 'history',\n",
       " 'sports',\n",
       " 'fantasy',\n",
       " 'travel',\n",
       " 'thriller',\n",
       " 'psychology',\n",
       " 'science_fiction',\n",
       " 'sports',\n",
       " 'horror',\n",
       " 'horror',\n",
       " 'sports',\n",
       " 'science_fiction',\n",
       " 'sports',\n",
       " 'fantasy',\n",
       " 'thriller',\n",
       " 'science_fiction',\n",
       " 'science_fiction',\n",
       " 'sports',\n",
       " 'science_fiction',\n",
       " 'romance',\n",
       " 'sports',\n",
       " 'thriller',\n",
       " 'horror',\n",
       " 'science_fiction',\n",
       " 'travel',\n",
       " 'thriller',\n",
       " 'psychology',\n",
       " 'science',\n",
       " 'sports',\n",
       " 'science_fiction',\n",
       " 'romance',\n",
       " 'sports',\n",
       " 'horror',\n",
       " 'science',\n",
       " 'horror',\n",
       " 'horror',\n",
       " 'history',\n",
       " 'travel',\n",
       " 'psychology',\n",
       " 'thriller',\n",
       " 'science_fiction',\n",
       " 'science',\n",
       " 'sports',\n",
       " 'psychology',\n",
       " 'psychology',\n",
       " 'psychology',\n",
       " 'science',\n",
       " 'horror',\n",
       " 'fantasy',\n",
       " 'travel',\n",
       " 'science_fiction',\n",
       " 'psychology',\n",
       " 'history',\n",
       " 'travel',\n",
       " 'horror',\n",
       " 'sports',\n",
       " 'sports',\n",
       " 'thriller',\n",
       " 'history',\n",
       " 'horror',\n",
       " 'sports',\n",
       " 'sports',\n",
       " 'science_fiction',\n",
       " 'horror',\n",
       " 'science_fiction',\n",
       " 'thriller',\n",
       " 'romance',\n",
       " 'psychology',\n",
       " 'psychology',\n",
       " 'travel',\n",
       " 'thriller',\n",
       " 'travel',\n",
       " 'sports',\n",
       " 'horror',\n",
       " 'science_fiction',\n",
       " 'romance',\n",
       " 'travel',\n",
       " 'romance',\n",
       " 'romance',\n",
       " 'romance',\n",
       " 'sports',\n",
       " 'horror',\n",
       " 'romance',\n",
       " 'history',\n",
       " 'romance',\n",
       " 'sports',\n",
       " 'science_fiction',\n",
       " 'horror',\n",
       " 'sports',\n",
       " 'science_fiction',\n",
       " 'psychology',\n",
       " 'romance',\n",
       " 'fantasy',\n",
       " 'fantasy',\n",
       " 'fantasy',\n",
       " 'travel',\n",
       " 'science_fiction',\n",
       " 'horror',\n",
       " 'psychology',\n",
       " 'science_fiction',\n",
       " 'sports',\n",
       " 'sports',\n",
       " 'thriller',\n",
       " 'fantasy',\n",
       " 'romance',\n",
       " 'science_fiction',\n",
       " 'psychology',\n",
       " 'history',\n",
       " 'science_fiction',\n",
       " 'fantasy',\n",
       " 'sports',\n",
       " 'history',\n",
       " 'sports',\n",
       " 'science_fiction',\n",
       " 'history',\n",
       " 'history',\n",
       " 'science',\n",
       " 'romance',\n",
       " 'travel',\n",
       " 'romance',\n",
       " 'travel',\n",
       " 'romance',\n",
       " 'science_fiction',\n",
       " 'science',\n",
       " 'science_fiction']"
      ]
     },
     "execution_count": 55,
     "metadata": {},
     "output_type": "execute_result"
    }
   ],
   "source": [
    "#let's map the output of genres numbers to text\n",
    "reversed_dict={v:k for k,v in mapped_target.items()}\n",
    "list(genres.map(reversed_dict))"
   ]
  },
  {
   "cell_type": "markdown",
   "id": "7c433fd2",
   "metadata": {},
   "source": [
    "## Task -2 "
   ]
  },
  {
   "cell_type": "code",
   "execution_count": 56,
   "id": "b562352f",
   "metadata": {},
   "outputs": [],
   "source": [
    "most_frequent_genres=list(final_data[\"genre\"].value_counts()[:3].index)\n",
    "for row in range(final_data.shape[0]):\n",
    "    if final_data.loc[row,\"genre\"] not in most_frequent_genres:\n",
    "        final_data.loc[row,\"genre\"]=\"Others\""
   ]
  },
  {
   "cell_type": "code",
   "execution_count": 57,
   "id": "edf75da1",
   "metadata": {},
   "outputs": [],
   "source": [
    "#let's apply One Hot Encoding on categorical column name\n",
    "#Concatenate with One Hot Encoded output and the dataframe\n",
    "final_data=pd.concat([final_data,pd.get_dummies(final_data[\"genre\"],drop_first=True)],axis=1)\n",
    "#dropping name column since now it has no use in the data\n",
    "final_data=final_data.drop([\"genre\"],axis=1)"
   ]
  },
  {
   "cell_type": "code",
   "execution_count": 58,
   "id": "3d1622dc",
   "metadata": {},
   "outputs": [
    {
     "data": {
      "text/html": [
       "<div>\n",
       "<style scoped>\n",
       "    .dataframe tbody tr th:only-of-type {\n",
       "        vertical-align: middle;\n",
       "    }\n",
       "\n",
       "    .dataframe tbody tr th {\n",
       "        vertical-align: top;\n",
       "    }\n",
       "\n",
       "    .dataframe thead th {\n",
       "        text-align: right;\n",
       "    }\n",
       "</style>\n",
       "<table border=\"1\" class=\"dataframe\">\n",
       "  <thead>\n",
       "    <tr style=\"text-align: right;\">\n",
       "      <th></th>\n",
       "      <th>rating</th>\n",
       "      <th>num_ratings</th>\n",
       "      <th>num_reviews</th>\n",
       "      <th>num_followers</th>\n",
       "      <th>Others</th>\n",
       "      <th>Stephen King</th>\n",
       "      <th>Terry Pratchett</th>\n",
       "      <th>fantasy</th>\n",
       "      <th>romance</th>\n",
       "      <th>thriller</th>\n",
       "    </tr>\n",
       "  </thead>\n",
       "  <tbody>\n",
       "    <tr>\n",
       "      <th>0</th>\n",
       "      <td>4.39</td>\n",
       "      <td>806229</td>\n",
       "      <td>46149</td>\n",
       "      <td>30500</td>\n",
       "      <td>1</td>\n",
       "      <td>0</td>\n",
       "      <td>0</td>\n",
       "      <td>0</td>\n",
       "      <td>0</td>\n",
       "      <td>0</td>\n",
       "    </tr>\n",
       "    <tr>\n",
       "      <th>1</th>\n",
       "      <td>4.04</td>\n",
       "      <td>367056</td>\n",
       "      <td>12879</td>\n",
       "      <td>6538</td>\n",
       "      <td>1</td>\n",
       "      <td>0</td>\n",
       "      <td>0</td>\n",
       "      <td>0</td>\n",
       "      <td>0</td>\n",
       "      <td>0</td>\n",
       "    </tr>\n",
       "    <tr>\n",
       "      <th>2</th>\n",
       "      <td>4.07</td>\n",
       "      <td>224620</td>\n",
       "      <td>6509</td>\n",
       "      <td>2354</td>\n",
       "      <td>1</td>\n",
       "      <td>0</td>\n",
       "      <td>0</td>\n",
       "      <td>0</td>\n",
       "      <td>0</td>\n",
       "      <td>0</td>\n",
       "    </tr>\n",
       "    <tr>\n",
       "      <th>3</th>\n",
       "      <td>3.99</td>\n",
       "      <td>613157</td>\n",
       "      <td>36644</td>\n",
       "      <td>64200</td>\n",
       "      <td>1</td>\n",
       "      <td>0</td>\n",
       "      <td>0</td>\n",
       "      <td>0</td>\n",
       "      <td>0</td>\n",
       "      <td>0</td>\n",
       "    </tr>\n",
       "    <tr>\n",
       "      <th>4</th>\n",
       "      <td>4.18</td>\n",
       "      <td>3313033</td>\n",
       "      <td>35591</td>\n",
       "      <td>4621</td>\n",
       "      <td>1</td>\n",
       "      <td>0</td>\n",
       "      <td>0</td>\n",
       "      <td>0</td>\n",
       "      <td>0</td>\n",
       "      <td>0</td>\n",
       "    </tr>\n",
       "  </tbody>\n",
       "</table>\n",
       "</div>"
      ],
      "text/plain": [
       "   rating  num_ratings  num_reviews  num_followers  Others  Stephen King  \\\n",
       "0    4.39       806229        46149          30500       1             0   \n",
       "1    4.04       367056        12879           6538       1             0   \n",
       "2    4.07       224620         6509           2354       1             0   \n",
       "3    3.99       613157        36644          64200       1             0   \n",
       "4    4.18      3313033        35591           4621       1             0   \n",
       "\n",
       "   Terry Pratchett  fantasy  romance  thriller  \n",
       "0                0        0        0         0  \n",
       "1                0        0        0         0  \n",
       "2                0        0        0         0  \n",
       "3                0        0        0         0  \n",
       "4                0        0        0         0  "
      ]
     },
     "execution_count": 58,
     "metadata": {},
     "output_type": "execute_result"
    }
   ],
   "source": [
    "final_data.head()"
   ]
  },
  {
   "cell_type": "code",
   "execution_count": 59,
   "id": "0a6f734d",
   "metadata": {},
   "outputs": [],
   "source": [
    "#let's divide the x and y\n",
    "X=final_data.drop([\"rating\"],axis=1)\n",
    "Y=final_data[\"rating\"]"
   ]
  },
  {
   "cell_type": "code",
   "execution_count": 60,
   "id": "91731c50",
   "metadata": {},
   "outputs": [],
   "source": [
    "#let's do train test split and start builing the model\n",
    "X_train,X_test,y_train,y_test=train_test_split(X,Y,test_size=0.5,random_state=3)"
   ]
  },
  {
   "cell_type": "code",
   "execution_count": 61,
   "id": "c6ecd21a",
   "metadata": {},
   "outputs": [],
   "source": [
    "#resetting index of x_train\n",
    "X_train=X_train.reset_index(drop=True)\n",
    "#resetting index in X_test\n",
    "X_test=X_test.reset_index(drop=True)"
   ]
  },
  {
   "cell_type": "code",
   "execution_count": 62,
   "id": "58a0c1f1",
   "metadata": {},
   "outputs": [],
   "source": [
    "#let's apply scaling robust scaler to scale the data since data has outliers so it will work well here\n",
    "scaler=RobustScaler()\n",
    "#apply fit transform in the train data\n",
    "X_train=scaler.fit_transform(X_train)\n",
    "#apply transform in the test data\n",
    "X_test=scaler.transform(X_test)"
   ]
  },
  {
   "cell_type": "code",
   "execution_count": 63,
   "id": "fad902c0",
   "metadata": {},
   "outputs": [
    {
     "data": {
      "text/html": [
       "<style>#sk-container-id-1 {color: black;background-color: white;}#sk-container-id-1 pre{padding: 0;}#sk-container-id-1 div.sk-toggleable {background-color: white;}#sk-container-id-1 label.sk-toggleable__label {cursor: pointer;display: block;width: 100%;margin-bottom: 0;padding: 0.3em;box-sizing: border-box;text-align: center;}#sk-container-id-1 label.sk-toggleable__label-arrow:before {content: \"▸\";float: left;margin-right: 0.25em;color: #696969;}#sk-container-id-1 label.sk-toggleable__label-arrow:hover:before {color: black;}#sk-container-id-1 div.sk-estimator:hover label.sk-toggleable__label-arrow:before {color: black;}#sk-container-id-1 div.sk-toggleable__content {max-height: 0;max-width: 0;overflow: hidden;text-align: left;background-color: #f0f8ff;}#sk-container-id-1 div.sk-toggleable__content pre {margin: 0.2em;color: black;border-radius: 0.25em;background-color: #f0f8ff;}#sk-container-id-1 input.sk-toggleable__control:checked~div.sk-toggleable__content {max-height: 200px;max-width: 100%;overflow: auto;}#sk-container-id-1 input.sk-toggleable__control:checked~label.sk-toggleable__label-arrow:before {content: \"▾\";}#sk-container-id-1 div.sk-estimator input.sk-toggleable__control:checked~label.sk-toggleable__label {background-color: #d4ebff;}#sk-container-id-1 div.sk-label input.sk-toggleable__control:checked~label.sk-toggleable__label {background-color: #d4ebff;}#sk-container-id-1 input.sk-hidden--visually {border: 0;clip: rect(1px 1px 1px 1px);clip: rect(1px, 1px, 1px, 1px);height: 1px;margin: -1px;overflow: hidden;padding: 0;position: absolute;width: 1px;}#sk-container-id-1 div.sk-estimator {font-family: monospace;background-color: #f0f8ff;border: 1px dotted black;border-radius: 0.25em;box-sizing: border-box;margin-bottom: 0.5em;}#sk-container-id-1 div.sk-estimator:hover {background-color: #d4ebff;}#sk-container-id-1 div.sk-parallel-item::after {content: \"\";width: 100%;border-bottom: 1px solid gray;flex-grow: 1;}#sk-container-id-1 div.sk-label:hover label.sk-toggleable__label {background-color: #d4ebff;}#sk-container-id-1 div.sk-serial::before {content: \"\";position: absolute;border-left: 1px solid gray;box-sizing: border-box;top: 0;bottom: 0;left: 50%;z-index: 0;}#sk-container-id-1 div.sk-serial {display: flex;flex-direction: column;align-items: center;background-color: white;padding-right: 0.2em;padding-left: 0.2em;position: relative;}#sk-container-id-1 div.sk-item {position: relative;z-index: 1;}#sk-container-id-1 div.sk-parallel {display: flex;align-items: stretch;justify-content: center;background-color: white;position: relative;}#sk-container-id-1 div.sk-item::before, #sk-container-id-1 div.sk-parallel-item::before {content: \"\";position: absolute;border-left: 1px solid gray;box-sizing: border-box;top: 0;bottom: 0;left: 50%;z-index: -1;}#sk-container-id-1 div.sk-parallel-item {display: flex;flex-direction: column;z-index: 1;position: relative;background-color: white;}#sk-container-id-1 div.sk-parallel-item:first-child::after {align-self: flex-end;width: 50%;}#sk-container-id-1 div.sk-parallel-item:last-child::after {align-self: flex-start;width: 50%;}#sk-container-id-1 div.sk-parallel-item:only-child::after {width: 0;}#sk-container-id-1 div.sk-dashed-wrapped {border: 1px dashed gray;margin: 0 0.4em 0.5em 0.4em;box-sizing: border-box;padding-bottom: 0.4em;background-color: white;}#sk-container-id-1 div.sk-label label {font-family: monospace;font-weight: bold;display: inline-block;line-height: 1.2em;}#sk-container-id-1 div.sk-label-container {text-align: center;}#sk-container-id-1 div.sk-container {/* jupyter's `normalize.less` sets `[hidden] { display: none; }` but bootstrap.min.css set `[hidden] { display: none !important; }` so we also need the `!important` here to be able to override the default hidden behavior on the sphinx rendered scikit-learn.org. See: https://github.com/scikit-learn/scikit-learn/issues/21755 */display: inline-block !important;position: relative;}#sk-container-id-1 div.sk-text-repr-fallback {display: none;}</style><div id=\"sk-container-id-1\" class=\"sk-top-container\"><div class=\"sk-text-repr-fallback\"><pre>DecisionTreeRegressor(max_depth=10, random_state=12)</pre><b>In a Jupyter environment, please rerun this cell to show the HTML representation or trust the notebook. <br />On GitHub, the HTML representation is unable to render, please try loading this page with nbviewer.org.</b></div><div class=\"sk-container\" hidden><div class=\"sk-item\"><div class=\"sk-estimator sk-toggleable\"><input class=\"sk-toggleable__control sk-hidden--visually\" id=\"sk-estimator-id-1\" type=\"checkbox\" checked><label for=\"sk-estimator-id-1\" class=\"sk-toggleable__label sk-toggleable__label-arrow\">DecisionTreeRegressor</label><div class=\"sk-toggleable__content\"><pre>DecisionTreeRegressor(max_depth=10, random_state=12)</pre></div></div></div></div></div>"
      ],
      "text/plain": [
       "DecisionTreeRegressor(max_depth=10, random_state=12)"
      ]
     },
     "execution_count": 63,
     "metadata": {},
     "output_type": "execute_result"
    }
   ],
   "source": [
    "#let's try to apply decision tree regressor\n",
    "from sklearn.tree import DecisionTreeRegressor\n",
    "l=DecisionTreeRegressor(max_depth=10,random_state=12)\n",
    "l.fit(X_train,y_train)"
   ]
  },
  {
   "cell_type": "code",
   "execution_count": 64,
   "id": "65f92bde",
   "metadata": {},
   "outputs": [
    {
     "name": "stdout",
     "output_type": "stream",
     "text": [
      "Train Accuracy--> 0.7191485558063837\n",
      "Test Accuracy--> -0.27251229902339125\n"
     ]
    }
   ],
   "source": [
    "train_prediction=l.predict(X_train)\n",
    "#predict test data\n",
    "test_prediction=l.predict(X_test)\n",
    "#calculating r2 score to check the model accuracy\n",
    "print(\"Train Accuracy-->\",r2_score(y_train,train_prediction))\n",
    "print(\"Test Accuracy-->\",r2_score(y_test,test_prediction))"
   ]
  },
  {
   "cell_type": "code",
   "execution_count": 65,
   "id": "10fd8c17",
   "metadata": {},
   "outputs": [
    {
     "name": "stdout",
     "output_type": "stream",
     "text": [
      "Train Accuracy--> 0.8913924843027172\n",
      "Test Accuracy--> 0.09305868530193151\n"
     ]
    }
   ],
   "source": [
    "#let's apply the GradientBoostingRegressor\n",
    "lr=GradientBoostingRegressor(max_depth=6)\n",
    "lr.fit(X_train,y_train)\n",
    "#predict the train data\n",
    "train_prediction=lr.predict(X_train)\n",
    "#predict test data\n",
    "test_prediction=lr.predict(X_test)\n",
    "#calculating r2 score to check the model accuracy\n",
    "print(\"Train Accuracy-->\",r2_score(y_train,np.round(train_prediction,2)))\n",
    "print(\"Test Accuracy-->\",r2_score(y_test,np.round(test_prediction,2)))"
   ]
  },
  {
   "cell_type": "code",
   "execution_count": 66,
   "id": "ec14512d",
   "metadata": {},
   "outputs": [
    {
     "name": "stdout",
     "output_type": "stream",
     "text": [
      "Train Accuracy--> 0.10761580250404112\n",
      "Test Accuracy--> 0.06716086626642226\n"
     ]
    }
   ],
   "source": [
    "#let's apply the SVR model\n",
    "svr=SVR(kernel=\"poly\",degree=3)\n",
    "#fitting the model\n",
    "svr.fit(X_train,y_train)\n",
    "#predict the train data\n",
    "train_prediction=svr.predict(X_train)\n",
    "#predict test data\n",
    "test_prediction=svr.predict(X_test)\n",
    "#calculating r2 score to check the model accuracy\n",
    "print(\"Train Accuracy-->\",r2_score(y_train,train_prediction))\n",
    "print(\"Test Accuracy-->\",r2_score(y_test,test_prediction))"
   ]
  },
  {
   "cell_type": "code",
   "execution_count": 67,
   "id": "8c7b7df8",
   "metadata": {},
   "outputs": [
    {
     "name": "stdout",
     "output_type": "stream",
     "text": [
      "Train Accuracy--> 0.4244185172182453\n",
      "Test Accuracy--> 0.046128493016159955\n"
     ]
    }
   ],
   "source": [
    "#let's apply the KNN model\n",
    "knn=KNeighborsRegressor(n_neighbors=5)\n",
    "#fitting the model\n",
    "knn.fit(X_train,y_train)\n",
    "#predict the train data\n",
    "train_prediction=knn.predict(X_train)\n",
    "#predict test data\n",
    "test_prediction=knn.predict(X_test)\n",
    "#calculating r2 score to check the model accuracy\n",
    "print(\"Train Accuracy-->\",r2_score(y_train,train_prediction))\n",
    "print(\"Test Accuracy-->\",r2_score(y_test,test_prediction))"
   ]
  },
  {
   "cell_type": "code",
   "execution_count": 68,
   "id": "c4e833e5",
   "metadata": {},
   "outputs": [
    {
     "name": "stdout",
     "output_type": "stream",
     "text": [
      "Train Accuracy--> 0.0029198225217498264\n",
      "Test Accuracy--> 0.017722128135846393\n"
     ]
    }
   ],
   "source": [
    "from sklearn.linear_model import SGDRegressor\n",
    "#let's apply the SGD Reg model\n",
    "sgd=SGDRegressor(max_iter=2000)\n",
    "#fitting the model\n",
    "sgd.fit(X_train,y_train)\n",
    "#predict the train data\n",
    "train_prediction=np.round(sgd.predict(X_train),2)\n",
    "#predict test data\n",
    "test_prediction=sgd.predict(X_test)\n",
    "#calculating r2 score to check the model accuracy\n",
    "print(\"Train Accuracy-->\",r2_score(y_train,train_prediction))\n",
    "print(\"Test Accuracy-->\",r2_score(y_test,test_prediction))"
   ]
  },
  {
   "cell_type": "code",
   "execution_count": 69,
   "id": "933c0fca",
   "metadata": {},
   "outputs": [
    {
     "name": "stdout",
     "output_type": "stream",
     "text": [
      "Train Accuracy--> 0.8832911817126978\n",
      "Test Accuracy--> 0.1301528492029752\n"
     ]
    }
   ],
   "source": [
    "#let's apply the RandomForestRegressor \n",
    "rf=RandomForestRegressor(random_state=5)\n",
    "#fitting the model\n",
    "rf.fit(X_train,y_train)\n",
    "#predict the train data\n",
    "train_prediction=rf.predict(X_train)\n",
    "#predict test data\n",
    "test_prediction=rf.predict(X_test)\n",
    "#calculating r2 score to check the model accuracy\n",
    "print(\"Train Accuracy-->\",r2_score(y_train,train_prediction))\n",
    "print(\"Test Accuracy-->\",r2_score(y_test,test_prediction))"
   ]
  },
  {
   "cell_type": "code",
   "execution_count": 70,
   "id": "019a54de",
   "metadata": {},
   "outputs": [
    {
     "name": "stdout",
     "output_type": "stream",
     "text": [
      "Train Accuracy--> 0.21580789652391585\n",
      "Test Accuracy--> 0.1400637454661936\n"
     ]
    }
   ],
   "source": [
    "#let's apply the AdaBoostRegressor\n",
    "adr=AdaBoostRegressor(n_estimators=100,learning_rate=0.002,random_state=5)\n",
    "#fitting the model\n",
    "adr.fit(X_train,y_train)\n",
    "#predict the train data\n",
    "train_prediction=adr.predict(X_train)\n",
    "#predict test data\n",
    "test_prediction=adr.predict(X_test)\n",
    "#calculating r2 score to check the model accuracy\n",
    "print(\"Train Accuracy-->\",r2_score(y_train,train_prediction))\n",
    "print(\"Test Accuracy-->\",r2_score(y_test,test_prediction))"
   ]
  },
  {
   "cell_type": "code",
   "execution_count": 71,
   "id": "cbaa4aa1",
   "metadata": {},
   "outputs": [
    {
     "name": "stdout",
     "output_type": "stream",
     "text": [
      "Train Accuracy--> 0.523544569213358\n",
      "Test Accuracy--> 0.16287805927625942\n"
     ]
    }
   ],
   "source": [
    "#let's apply the GradientBoostingRegressor model\n",
    "gdr=GradientBoostingRegressor(random_state=5)\n",
    "#fitting the model\n",
    "gdr.fit(X_train,y_train)\n",
    "#predict the train data\n",
    "train_prediction=gdr.predict(X_train)\n",
    "#predict test data\n",
    "test_prediction=gdr.predict(X_test)\n",
    "#calculating r2 score to check the model accuracy\n",
    "print(\"Train Accuracy-->\",r2_score(y_train,train_prediction))\n",
    "print(\"Test Accuracy-->\",r2_score(y_test,test_prediction))"
   ]
  },
  {
   "cell_type": "code",
   "execution_count": 72,
   "id": "285d87c3",
   "metadata": {},
   "outputs": [
    {
     "name": "stdout",
     "output_type": "stream",
     "text": [
      "Train Accuracy--> 0.9999837891608059\n",
      "Test Accuracy--> 0.004923457713648771\n"
     ]
    }
   ],
   "source": [
    "#let's apply the Xgboost model\n",
    "xg=XGBRegressor(max_depth=100,random_state=5)\n",
    "#fitting the model\n",
    "xg.fit(X_train,y_train)\n",
    "#predict the train data\n",
    "train_prediction=xg.predict(X_train)\n",
    "#predict test data\n",
    "test_prediction=xg.predict(X_test)\n",
    "#calculating f1 score to check the model accuracy\n",
    "print(\"Train Accuracy-->\",r2_score(y_train,train_prediction))\n",
    "print(\"Test Accuracy-->\",r2_score(y_test,test_prediction))"
   ]
  },
  {
   "cell_type": "code",
   "execution_count": 73,
   "id": "737660b4",
   "metadata": {},
   "outputs": [
    {
     "data": {
      "text/plain": [
       "array([4.08720222, 4.06821429, 4.07198758, 4.07306273, 3.96186364,\n",
       "       4.07238979, 4.13183333, 4.08421053, 4.08020942, 4.08266667,\n",
       "       4.07070485, 4.08678571, 4.06808612, 4.15628959, 3.95303922,\n",
       "       4.06582133, 4.09832143, 4.07128834, 4.06763566, 4.07064433,\n",
       "       3.89263158, 4.07070485, 4.10017467, 3.93910714, 4.06787709,\n",
       "       3.92549133, 4.07577608, 4.07609819, 4.08093023, 3.94637306,\n",
       "       4.07977273, 4.05934579, 4.07977273, 4.06582133, 4.07306273,\n",
       "       4.22586538, 4.06821429, 4.05934579, 4.0692278 , 3.94446009,\n",
       "       4.0613278 , 3.93446809, 3.94446009, 4.08833333, 3.93139037,\n",
       "       4.10758105, 3.89567568, 4.08325472, 4.07070485, 4.08678571,\n",
       "       3.93195652, 3.89183333, 4.06787709, 4.08757576, 4.09711485,\n",
       "       4.07238979, 4.10076923, 4.09050725, 4.09420398, 4.11105263,\n",
       "       4.07238979, 4.07212687, 4.08678571, 4.05413793, 4.10330275,\n",
       "       4.10050193, 4.10050193, 3.94494505, 4.10742188, 4.07977273,\n",
       "       4.11064815, 4.10017467, 3.93487685, 3.9808125 , 3.90151659,\n",
       "       4.07365854, 3.95153846, 4.07198758, 4.06821429, 3.95153846,\n",
       "       4.08020942, 4.0692278 , 4.08421053, 4.07823529, 4.01494118,\n",
       "       4.07212687, 3.95303922, 3.93815126, 4.06875862, 3.8959322 ,\n",
       "       3.93815126, 3.875     , 4.08456522, 4.06821429, 3.93446809,\n",
       "       3.90151659, 4.08740741, 3.99570652, 4.02136986, 4.03178571,\n",
       "       3.96314815, 4.07128834, 3.93242424, 4.06798319, 4.07755495,\n",
       "       4.07198758, 4.22340741, 4.08912281, 4.04436066, 4.12385542,\n",
       "       4.06808612, 4.08136986, 4.22035714, 4.15234568, 4.07755495,\n",
       "       3.89590909, 4.08351852, 4.05957447, 4.07401015, 4.09832143,\n",
       "       4.07755495, 4.1172449 , 3.89567568, 3.95797521, 3.95153846,\n",
       "       4.07401015, 4.13183333, 3.94637306, 4.06763566, 4.06955224,\n",
       "       3.93446809, 4.09266667, 4.07070485, 4.03506944, 4.08173333,\n",
       "       4.07478992, 3.90151659, 4.05852941, 4.08614035, 4.08325472,\n",
       "       4.07899642, 4.08173333, 4.06582133, 4.07198758, 3.93139037,\n",
       "       3.95797521, 3.95303922, 4.06808612, 3.87402062, 4.05852941,\n",
       "       4.07070485, 3.87402062, 4.23741176, 4.08517241, 4.15294118,\n",
       "       4.08325472, 3.93552147, 4.12448529, 4.08325472, 4.07401015,\n",
       "       4.12448529, 3.93446809, 4.07128834, 4.03231579, 4.11655172,\n",
       "       4.08136986, 4.07883281, 4.10017467, 4.11370518, 4.06808612,\n",
       "       3.89045161, 4.08325472, 3.88668508, 4.07238979, 4.07478992,\n",
       "       3.89369748, 3.95797521, 3.94637306, 3.93487685, 4.09636364,\n",
       "       4.09178191, 4.21214286, 3.8921374 , 4.08854545, 4.20376923,\n",
       "       4.08325472, 4.07064433, 4.1573029 , 4.06798319, 4.06798319,\n",
       "       3.95303922, 4.07064433, 4.12271429, 4.08351852, 4.07156667,\n",
       "       4.1276087 , 3.96167939, 4.08340426, 4.13964912, 3.93487685,\n",
       "       4.11042328, 4.07064433, 4.09518692, 4.08984375, 4.05413793,\n",
       "       4.10555066, 4.22590909, 3.89183333, 4.2057377 , 4.10050193,\n",
       "       4.08421053, 4.0986385 , 4.07212687, 3.88644928, 4.07278986,\n",
       "       4.10050193, 3.96947368, 4.09050725, 3.88644928, 4.0368038 ,\n",
       "       4.02927152, 3.94257862, 4.06875862, 4.11064815, 4.08984375,\n",
       "       3.99109375, 4.08266667, 4.09518692, 3.9843    , 4.08351852,\n",
       "       3.98396825, 4.21685714, 4.05643026, 4.03666667, 4.07090909,\n",
       "       4.07609819, 4.07306273, 4.10076923, 3.93487685, 3.94446009,\n",
       "       4.1573029 , 4.06763566, 4.07064433, 3.89369748, 4.08325472,\n",
       "       4.09655263, 4.09266667, 3.94174312, 4.08421053, 4.06444444,\n",
       "       3.92872549, 4.07212687, 4.09711485, 4.14625   , 4.06808612,\n",
       "       3.93242424, 4.06787709, 4.06787709, 4.06532258, 4.19909091,\n",
       "       4.09711485, 4.11655172, 4.07478992, 3.93815126, 4.09518692,\n",
       "       4.08912281, 4.23296296, 3.87942857, 3.94174312, 4.07278986,\n",
       "       3.95303922, 4.06808612, 4.11154472, 4.08173333, 4.1172449 ,\n",
       "       4.08173333, 3.90151659, 4.07278986, 4.11480687, 4.02927152,\n",
       "       3.96532258, 4.09518692, 3.89369748, 3.93552147, 4.03506944,\n",
       "       3.93815126, 4.10223404, 4.15      , 4.07156667, 3.93552147,\n",
       "       4.03506944, 4.07363636, 4.03666667, 4.05553191, 3.95303922,\n",
       "       4.08740625, 3.9808125 , 3.94446009, 4.06411429, 3.89794118,\n",
       "       4.08421053, 3.92631902, 4.07128834, 4.07156667, 3.97691176,\n",
       "       3.87171053, 4.07577608, 3.94454545, 4.03382488, 4.16974138,\n",
       "       3.94637306, 3.94637306, 4.07363636, 4.07198758, 4.05294118,\n",
       "       4.06763566, 4.08835   , 4.06808612, 4.10223404, 3.89726496,\n",
       "       4.06798319, 3.93446809, 4.08652542, 4.07238979, 4.22586538,\n",
       "       4.07198758, 3.94174312, 4.09655263, 4.07070485, 4.07238979,\n",
       "       4.15      , 4.08912281, 4.07064433, 4.06582133, 4.09711485,\n",
       "       4.06798319, 4.07064433, 4.20376923, 3.94637306, 4.08720222,\n",
       "       4.11042328, 4.09518692, 4.07478992, 4.08678571, 3.89458333,\n",
       "       4.06821429, 4.20376923, 3.89183333, 4.07337079, 3.88796703,\n",
       "       4.08835   , 4.11007538, 4.07128834, 4.07977273, 3.95991189,\n",
       "       3.95303922, 3.87223881, 4.07883281, 4.07198758, 4.08351852,\n",
       "       4.09832143, 3.92302857, 3.89726496, 3.87402062, 4.08421053,\n",
       "       3.95303922, 3.94507937, 4.06875862, 4.05964467, 4.13183333,\n",
       "       4.15564655, 4.07156667, 4.15564655, 4.11007538, 4.06787709,\n",
       "       4.09179402, 4.09832143, 3.91685393, 4.09655263, 3.92059406,\n",
       "       3.94637306, 4.09655263, 4.08984375, 4.07977273, 3.95303922,\n",
       "       4.08984375, 4.10050193, 4.06821429, 4.08984375, 4.08136986,\n",
       "       4.22586538, 4.07977273, 4.19909091, 4.08678571, 3.89458333,\n",
       "       4.07064433, 4.07337079, 4.06821429, 4.08325472, 4.11064815,\n",
       "       3.89045161, 4.07070485, 3.95628571, 4.08728972, 4.11042328,\n",
       "       4.07866667, 4.07128834, 3.94637306, 4.07337079, 3.88796703,\n",
       "       4.23296296, 3.95303922, 3.875     , 4.07278986, 3.89590909,\n",
       "       4.09711485, 4.07755495, 4.0692278 , 4.11058333, 4.06808612,\n",
       "       4.07156667, 4.09420398, 4.00493976, 4.07755495, 4.06798319,\n",
       "       4.10050193, 4.08136986, 4.07070485, 3.96915966, 4.2146087 ,\n",
       "       4.07977273, 4.15294118, 4.0733815 , 4.07577608, 4.09832143,\n",
       "       4.07306273, 3.95153846, 4.07064433, 4.10017467, 4.09655263,\n",
       "       4.09655263, 3.94454545, 4.185     , 4.07156667, 4.07128834,\n",
       "       4.09050725, 4.07609819, 4.06798319, 4.07128834, 3.89183333,\n",
       "       4.0368038 , 3.96133621, 3.89590909, 4.11119658, 4.07238979,\n",
       "       4.07866667, 4.07156667, 4.07064433, 4.05954839, 4.11058333,\n",
       "       4.03896296, 4.0783682 , 4.05729167, 4.06787709, 4.09788288,\n",
       "       4.05413793, 4.07198758, 4.08728972, 4.08655172, 4.07823529,\n",
       "       4.09711485, 4.07866667, 4.06875862, 4.07070485, 3.96314815,\n",
       "       3.93552147, 4.0368038 , 3.95628571, 4.07306849, 4.07883281,\n",
       "       4.06582133, 4.10758105, 3.90151659, 4.09420398, 4.2076    ,\n",
       "       3.95303922, 3.89183333, 4.20192857, 4.11007538, 4.09518692,\n",
       "       4.09420398, 4.08652542, 4.06763566, 4.11064815, 4.07742857,\n",
       "       3.94175439, 4.00493976, 4.07857143, 4.01475524, 4.07064433,\n",
       "       4.07899642, 4.06875862, 4.07857143, 3.94454545, 4.03506944,\n",
       "       4.12448529, 3.93195652, 4.03506944, 3.88796703, 4.17626168,\n",
       "       4.03178571, 4.02290476, 4.09655263, 4.07064433, 4.0692278 ,\n",
       "       4.06952381, 4.11042328, 4.0692278 , 3.96818182, 4.09832143,\n",
       "       4.01887574, 3.89183333, 3.90039474, 4.12385542, 4.11042328,\n",
       "       3.93516588, 3.93446809, 4.01792793, 4.07365854, 4.10758105,\n",
       "       4.08351852, 4.08833333, 4.24428571, 4.06075949, 4.08984375,\n",
       "       4.09711485, 4.21685714, 3.90151659, 4.18634615, 3.89045161,\n",
       "       4.09743017, 3.94446009, 4.06444444, 4.05964467, 3.9843    ,\n",
       "       4.07365854, 4.06582133, 4.09788288, 4.185     , 4.0783682 ,\n",
       "       4.10017467, 4.06808612, 4.07128834, 4.09518692, 3.93815126,\n",
       "       4.06787709, 4.2076    , 3.92410405, 4.0783682 , 4.06798319,\n",
       "       4.06787709, 3.94637306, 4.0535443 , 4.08173333, 4.07755495,\n",
       "       4.07212687, 4.08325472, 3.89567568, 4.07070485, 4.08093023,\n",
       "       4.06763566, 3.93242424, 4.07156667, 4.05294118, 3.94175439,\n",
       "       3.89794118, 4.07478992, 3.95153846, 4.24428571, 4.05729167,\n",
       "       4.03231579, 4.07755495, 4.08652542, 4.07278986, 4.10758105,\n",
       "       4.09832143, 4.11480687, 4.11007538, 3.93487685, 4.09743017,\n",
       "       4.1276087 , 3.93552147, 4.08020942, 4.07365854, 4.03506944,\n",
       "       4.06808612, 4.09711485, 4.03178571, 4.09711485, 4.07678571,\n",
       "       4.08173333, 4.06798319, 4.16974138, 4.09655263, 4.07306273,\n",
       "       4.06763566, 4.0986385 , 3.89183333, 4.07128834, 4.08652542,\n",
       "       4.1033    , 4.07866667, 4.08835   , 4.20537037, 4.07755495,\n",
       "       3.87402062, 4.06444444, 4.07156667, 4.07212687, 4.15912621,\n",
       "       3.93516588, 3.87447761, 4.07156667, 3.96684211, 4.10555066,\n",
       "       4.06821429, 4.20537037, 4.07742857, 4.03506944, 4.07823529,\n",
       "       4.06808612, 4.07365854, 4.07198758, 4.19301587, 4.07156667,\n",
       "       4.11571429, 4.07198758, 3.89590909, 4.08421053, 4.06582133,\n",
       "       4.08093023, 4.08614035, 4.04436066, 4.07278986, 4.145     ,\n",
       "       4.10050193, 4.07156667, 4.08984375, 3.93242424, 3.94637306,\n",
       "       4.1026087 , 4.11007538, 4.07883281, 4.06821429, 4.08020942,\n",
       "       4.08456522, 4.07198758, 4.1172449 , 3.9843    , 3.97742331,\n",
       "       4.09711485, 3.89458333, 4.0692278 , 4.02735632, 4.10054795,\n",
       "       3.90894737, 4.0692278 , 3.95303922, 4.09420398, 4.20978022,\n",
       "       4.08325472, 4.07238979, 4.08325472, 4.06875862, 4.07212687,\n",
       "       4.0692278 , 3.94637306, 4.08421053, 4.10555066, 4.07742857,\n",
       "       4.1026087 , 4.07977273, 4.06875862, 4.07064433, 4.14530973,\n",
       "       4.07755495, 4.07064433, 4.11042328, 4.10555066, 4.09420398,\n",
       "       4.06808612, 3.93815126, 4.2237963 , 3.94175439, 4.08740625,\n",
       "       4.05980315, 4.07198758, 4.07306849, 4.07198758, 4.07899642,\n",
       "       4.09420398, 4.07064433, 4.05852941, 4.08093023, 4.04937173,\n",
       "       3.93487685, 4.04428135, 4.07238979, 4.0692278 , 3.94175439,\n",
       "       4.06787709, 3.89458333, 4.11058333, 3.94637306, 3.93910714,\n",
       "       4.08325472, 4.09832143, 3.93446809, 4.10017467, 4.08266667,\n",
       "       4.07064433, 4.10050193, 3.93815126, 4.07198758, 3.93446809,\n",
       "       4.08421053, 4.07883281, 4.08173333, 4.09636364, 4.07212687,\n",
       "       4.10555066, 4.09050725, 4.08351852, 4.07866667, 3.95303922,\n",
       "       4.09178191, 3.89567568, 4.08173333, 4.14615385, 4.07899642,\n",
       "       3.89458333, 3.89726496, 4.0986385 , 4.04428135, 4.07070485,\n",
       "       4.0613278 , 3.93516588, 4.05852941, 3.93552147, 4.07883281,\n",
       "       4.0368038 , 4.10555066, 4.1033    , 4.1172449 ])"
      ]
     },
     "execution_count": 73,
     "metadata": {},
     "output_type": "execute_result"
    }
   ],
   "source": [
    "#so I tried to tune manually and using grid search cv also but I don't know why but i did not able to get the good model\n",
    "#from this dataset in the case of the regression problem. Still I choose the Adaboost model which has very low accuracy\n",
    "#But I tried to predict using this one because other models are overfitted very badly and by tuning also it did not improve much\n",
    "adr.predict(X_test)"
   ]
  },
  {
   "cell_type": "code",
   "execution_count": null,
   "id": "5f1d4029",
   "metadata": {},
   "outputs": [],
   "source": []
  },
  {
   "cell_type": "code",
   "execution_count": null,
   "id": "3ed0e22f",
   "metadata": {},
   "outputs": [],
   "source": []
  },
  {
   "cell_type": "code",
   "execution_count": null,
   "id": "ef958468",
   "metadata": {},
   "outputs": [],
   "source": []
  },
  {
   "cell_type": "code",
   "execution_count": null,
   "id": "2ea1f49b",
   "metadata": {},
   "outputs": [],
   "source": []
  }
 ],
 "metadata": {
  "kernelspec": {
   "display_name": "Python 3 (ipykernel)",
   "language": "python",
   "name": "python3"
  },
  "language_info": {
   "codemirror_mode": {
    "name": "ipython",
    "version": 3
   },
   "file_extension": ".py",
   "mimetype": "text/x-python",
   "name": "python",
   "nbconvert_exporter": "python",
   "pygments_lexer": "ipython3",
   "version": "3.9.12"
  }
 },
 "nbformat": 4,
 "nbformat_minor": 5
}
